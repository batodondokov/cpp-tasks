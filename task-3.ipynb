{
 "cells": [
  {
   "cell_type": "markdown",
   "id": "7f7941fa-faa5-4456-88a4-8c53b5501f82",
   "metadata": {},
   "source": [
    "# Семестр 2. Задание 3. Распараллеливание рекуррентных соотношений "
   ]
  },
  {
   "cell_type": "code",
   "execution_count": 1,
   "id": "62955714-834b-4365-a107-389b1710bedd",
   "metadata": {},
   "outputs": [],
   "source": [
    "import numpy as np"
   ]
  },
  {
   "cell_type": "code",
   "execution_count": 2,
   "id": "3aea117d-04d5-48f8-9bd2-368200541a25",
   "metadata": {},
   "outputs": [],
   "source": [
    "np.random.seed(42)\n",
    "N = 100\n",
    "P = 4\n",
    "A = np.random.rand(100)\n",
    "B = np.random.rand(100)\n",
    "X = np.zeros(100)\n",
    "X[0] = np.random.rand()"
   ]
  },
  {
   "cell_type": "markdown",
   "id": "504aeb7c-bab7-4e45-aa61-23942db57673",
   "metadata": {},
   "source": [
    "## Параллельный алгоритм"
   ]
  },
  {
   "cell_type": "code",
   "execution_count": 3,
   "id": "e8e00d5c-add0-4764-8cbf-cdde4723829f",
   "metadata": {},
   "outputs": [],
   "source": [
    "import numba\n",
    "from numba import cuda, njit"
   ]
  },
  {
   "cell_type": "code",
   "execution_count": 4,
   "id": "5be69ba1-362c-4329-b482-8e632c8a9607",
   "metadata": {},
   "outputs": [],
   "source": [
    "@njit\n",
    "def prepare_x(X, A, B, N, P):\n",
    "    AA = np.zeros(P-1)\n",
    "    BB = np.zeros(P-1)\n",
    "    for i in range(P-1):\n",
    "        AA[i] = A[N//P*(i+1)] * A[N//P*(i+1)-1]\n",
    "        BB[i] = A[N//P*(i+1)] * B[N//P*(i+1)-1] + B[N//P*(i+1)]\n",
    "        for j in range(1, N//P*(i+1)):\n",
    "            BB[i] = AA[i] * B[j] + BB[i]\n",
    "            AA[i] = AA[i] * A[j]\n",
    "        X[N//P*(i+1)] = AA[i] * X[N//P*i]\n",
    "    return X"
   ]
  },
  {
   "cell_type": "code",
   "execution_count": 5,
   "id": "5760fe18-a6ea-4f93-b1c2-59516d157ae8",
   "metadata": {},
   "outputs": [],
   "source": [
    "@cuda.jit\n",
    "def parallel_recurrent(X, A, B, P, N):\n",
    "    idx = cuda.grid(1)\n",
    "    if idx < P:\n",
    "        for i in range(N//P*(idx) + 1, N//P*(idx+1)):\n",
    "            X[i] = A[i] * X[i-1] + B[i]"
   ]
  },
  {
   "cell_type": "code",
   "execution_count": 6,
   "id": "1d9f163f-b79e-4d02-944c-1883f3183f4a",
   "metadata": {},
   "outputs": [
    {
     "name": "stderr",
     "output_type": "stream",
     "text": [
      "/home/bato/miniconda3/envs/p-numba/lib/python3.12/site-packages/numba/cuda/dispatcher.py:536: NumbaPerformanceWarning: Grid size 1 will likely result in GPU under-utilization due to low occupancy.\n",
      "  warn(NumbaPerformanceWarning(msg))\n"
     ]
    },
    {
     "data": {
      "text/plain": [
       "array([6.42031646e-01, 1.24679908e+00, 1.22700536e+00, 1.24312786e+00,\n",
       "       1.10151759e+00, 4.21122938e-01, 4.34843264e-01, 1.13220200e+00,\n",
       "       9.09381785e-01, 7.20888214e-01, 3.04590572e-01, 4.56646684e-01,\n",
       "       1.30982982e+00, 1.08624848e+00, 8.30910851e-01, 1.02385339e+00,\n",
       "       1.11517153e+00, 7.71763491e-01, 1.22591839e+00, 8.96365402e-01,\n",
       "       1.35588392e+00, 1.08522878e+00, 6.35047256e-01, 3.42709008e-01,\n",
       "       3.84234454e-01, 4.91557545e-13, 8.18014766e-01, 1.28138195e+00,\n",
       "       7.66061464e-01, 5.46331174e-01, 7.49331695e-01, 3.49886941e-01,\n",
       "       1.42626070e-01, 4.72950987e-01, 1.39960633e+00, 1.45464097e+00,\n",
       "       9.61894292e-01, 7.96969208e-01, 9.08942255e-01, 1.37185528e+00,\n",
       "       1.12986609e+00, 8.11265896e-01, 5.25146740e-01, 7.78404955e-01,\n",
       "       4.86276114e-01, 3.59055709e-01, 7.21485976e-01, 8.77900807e-01,\n",
       "       5.31436147e-01, 3.76884804e-01, 9.92181696e-38, 2.39561891e-01,\n",
       "       3.69963015e-01, 8.20505785e-01, 1.47623085e+00, 1.60295445e+00,\n",
       "       8.13984998e-01, 9.21146725e-01, 2.79298513e-01, 8.19080626e-01,\n",
       "       6.86141171e-01, 8.18489573e-01, 1.31184272e+00, 1.00377894e+00,\n",
       "       3.72285914e-01, 1.03734060e+00, 4.66966485e-01, 5.61117615e-01,\n",
       "       8.26068209e-02, 6.72416536e-01, 1.19683451e+00, 2.54417615e-01,\n",
       "       5.13497982e-01, 6.45233573e-01, 1.10126088e+00, 9.88282090e-74,\n",
       "       6.90937738e-01, 4.37895590e-01, 1.09370055e+00, 2.64246998e-01,\n",
       "       5.69138841e-01, 4.68216694e-01, 1.07962560e+00, 9.45958575e-01,\n",
       "       5.52118022e-01, 8.39523618e-01, 1.42974382e+00, 1.46674467e+00,\n",
       "       1.83096514e+00, 1.10646136e+00, 2.25429179e-01, 1.05800194e+00,\n",
       "       1.70533012e+00, 1.59026437e+00, 1.56507143e+00, 1.12203495e+00,\n",
       "       1.31248018e+00, 1.45824937e+00, 9.24153850e-01, 8.79583823e-01])"
      ]
     },
     "execution_count": 6,
     "metadata": {},
     "output_type": "execute_result"
    }
   ],
   "source": [
    "X = prepare_x(X, A, B, N, P)  \n",
    "X_dev = cuda.to_device(X)\n",
    "A_dev = cuda.to_device(A)\n",
    "B_dev = cuda.to_device(B)\n",
    "\n",
    "TPB = P\n",
    "BPG = 1\n",
    "    \n",
    "parallel_recurrent[BPG, TPB](X_dev, A_dev, B_dev, P, N)\n",
    "X_dev.copy_to_host()"
   ]
  },
  {
   "cell_type": "markdown",
   "id": "3caac571-0a8a-4fba-984d-d6bc66bf6417",
   "metadata": {},
   "source": [
    "## Последовательный"
   ]
  },
  {
   "cell_type": "code",
   "execution_count": 7,
   "id": "2be2f210-4941-4ca9-974e-d9253f6c598b",
   "metadata": {},
   "outputs": [],
   "source": [
    "np.random.seed(42)\n",
    "N = 100\n",
    "P = 4\n",
    "A = np.random.rand(100)\n",
    "B = np.random.rand(100)\n",
    "X = np.zeros(100)\n",
    "X[0] = np.random.rand()"
   ]
  },
  {
   "cell_type": "code",
   "execution_count": 8,
   "id": "457e8a66-d232-4c88-9604-581f485936aa",
   "metadata": {},
   "outputs": [],
   "source": [
    "def recurrent(X, A, B, N):\n",
    "    for i in range(1, N):\n",
    "        X[i] = A[i] * X[i-1] + B[i]\n",
    "    return X"
   ]
  },
  {
   "cell_type": "code",
   "execution_count": 9,
   "id": "a40d3b57-7a59-4c5b-9b0e-e7533b32dc19",
   "metadata": {},
   "outputs": [
    {
     "name": "stdout",
     "output_type": "stream",
     "text": [
      "[0.64203165 1.24679908 1.22700536 1.24312786 1.10151759 0.42112294\n",
      " 0.43484326 1.132202   0.90938178 0.72088821 0.30459057 0.45664668\n",
      " 1.30982982 1.08624848 0.83091085 1.02385339 1.11517153 0.77176349\n",
      " 1.22591839 0.8963654  1.35588392 1.08522878 0.63504726 0.34270901\n",
      " 0.38423445 0.72879945 0.96353691 1.35621444 0.81039333 0.54839041\n",
      " 0.75058277 0.35010028 0.14263995 0.47296416 1.39961904 1.45465125\n",
      " 0.96189742 0.79696951 0.90894246 1.37185538 1.1298661  0.8112659\n",
      " 0.52514674 0.77840496 0.48627611 0.35905571 0.72148598 0.87790081\n",
      " 0.53143615 0.3768848  1.2736876  1.22683895 1.29750877 1.6504991\n",
      " 1.97248383 2.06043729 0.8544688  0.92908086 0.27965735 0.81919737\n",
      " 0.68618655 0.81850189 1.31185292 1.00378258 0.37228694 1.03734116\n",
      " 0.46696656 0.56111768 0.08260683 0.67241654 1.19683452 0.25441762\n",
      " 0.51349798 0.64523357 1.10126088 0.9771935  1.44461811 0.49370159\n",
      " 1.11370509 0.26656491 0.57113943 0.46946366 1.08003822 0.9459848\n",
      " 0.55212618 0.83952627 1.42974575 1.4667459  1.83096623 1.10646187\n",
      " 0.22542924 1.05800199 1.70533015 1.59026439 1.56507144 1.12203496\n",
      " 1.31248019 1.45824938 0.92415385 0.87958382]\n"
     ]
    }
   ],
   "source": [
    "X = recurrent(X, A, B, N)\n",
    "print(X)"
   ]
  },
  {
   "cell_type": "markdown",
   "id": "a8bcde16-02d0-4188-98cd-1dc1430a339e",
   "metadata": {},
   "source": [
    "## Сравнение скорости последовательного и параллельного алгоритма"
   ]
  },
  {
   "cell_type": "markdown",
   "id": "45ca5a5e-0684-4102-b9ae-be9571daa503",
   "metadata": {},
   "source": [
    "### Последовательно N = 1000"
   ]
  },
  {
   "cell_type": "code",
   "execution_count": 10,
   "id": "661014d9-f4d8-479b-ba5e-1f80ce9df127",
   "metadata": {},
   "outputs": [],
   "source": [
    "np.random.seed(42)\n",
    "N = 1000\n",
    "A = np.random.rand(N)\n",
    "B = np.random.rand(N)\n",
    "X = np.zeros(N)\n",
    "X[0] = np.random.rand()"
   ]
  },
  {
   "cell_type": "code",
   "execution_count": 11,
   "id": "cda35d1a-d3dc-4b44-94d3-514086cb0938",
   "metadata": {},
   "outputs": [
    {
     "name": "stdout",
     "output_type": "stream",
     "text": [
      "419 μs ± 21.5 μs per loop (mean ± std. dev. of 7 runs, 1,000 loops each)\n"
     ]
    }
   ],
   "source": [
    "%%timeit\n",
    "recurrent(X, A, B, N)"
   ]
  },
  {
   "cell_type": "markdown",
   "id": "c63b0d77-d364-4c93-b702-82c61cc6f887",
   "metadata": {},
   "source": [
    "### Параллельный N = 1000, P = 4"
   ]
  },
  {
   "cell_type": "code",
   "execution_count": 12,
   "id": "55fc57cb-fd82-41e6-b958-3665d2d60935",
   "metadata": {},
   "outputs": [],
   "source": [
    "np.random.seed(42)\n",
    "N = 1000\n",
    "P = 4\n",
    "A = np.random.rand(N)\n",
    "B = np.random.rand(N)\n",
    "X = np.zeros(N)\n",
    "X[0] = np.random.rand()\n",
    "\n",
    "X = prepare_x(X, A, B, N, P)  \n",
    "X_dev = cuda.to_device(X)\n",
    "A_dev = cuda.to_device(A)\n",
    "B_dev = cuda.to_device(B)\n",
    "\n",
    "TPB = P\n",
    "BPG = 1"
   ]
  },
  {
   "cell_type": "code",
   "execution_count": 13,
   "id": "c3a5632f-ff1b-4125-b4a9-e874889472e1",
   "metadata": {},
   "outputs": [
    {
     "name": "stdout",
     "output_type": "stream",
     "text": [
      "85.2 μs ± 27.6 μs per loop (mean ± std. dev. of 7 runs, 10,000 loops each)\n"
     ]
    }
   ],
   "source": [
    "%%timeit\n",
    "parallel_recurrent[BPG, TPB](X_dev, A_dev, B_dev, P, N)"
   ]
  },
  {
   "cell_type": "markdown",
   "id": "b6e382ca-8e79-4f65-a5bc-5aa932360b1e",
   "metadata": {},
   "source": [
    "### Последовательно N = 10 000"
   ]
  },
  {
   "cell_type": "code",
   "execution_count": 14,
   "id": "34fca061-02e4-4efb-81b0-7a608a59246e",
   "metadata": {},
   "outputs": [],
   "source": [
    "np.random.seed(42)\n",
    "N = 10000\n",
    "A = np.random.rand(N)\n",
    "B = np.random.rand(N)\n",
    "X = np.zeros(N)\n",
    "X[0] = np.random.rand()"
   ]
  },
  {
   "cell_type": "code",
   "execution_count": 15,
   "id": "3f7a4531-34ae-4c28-a93c-b172ae9a31b8",
   "metadata": {},
   "outputs": [
    {
     "name": "stdout",
     "output_type": "stream",
     "text": [
      "4.18 ms ± 261 μs per loop (mean ± std. dev. of 7 runs, 100 loops each)\n"
     ]
    }
   ],
   "source": [
    "%%timeit\n",
    "recurrent(X, A, B, N)"
   ]
  },
  {
   "cell_type": "markdown",
   "id": "599031a4-0be5-4a99-8014-5cac050aace8",
   "metadata": {},
   "source": [
    "### Параллельный N = 10 000, P = 4"
   ]
  },
  {
   "cell_type": "code",
   "execution_count": 16,
   "id": "5389d698-765e-46ed-a637-99b82f31b9f4",
   "metadata": {},
   "outputs": [],
   "source": [
    "np.random.seed(42)\n",
    "N = 10000\n",
    "P = 4\n",
    "A = np.random.rand(N)\n",
    "B = np.random.rand(N)\n",
    "X = np.zeros(N)\n",
    "X[0] = np.random.rand()\n",
    "\n",
    "X = prepare_x(X, A, B, N, P)  \n",
    "X_dev = cuda.to_device(X)\n",
    "A_dev = cuda.to_device(A)\n",
    "B_dev = cuda.to_device(B)\n",
    "\n",
    "TPB = P\n",
    "BPG = 1"
   ]
  },
  {
   "cell_type": "code",
   "execution_count": 17,
   "id": "a62a5a02-3332-4a14-b654-866a8fec9b86",
   "metadata": {},
   "outputs": [
    {
     "name": "stdout",
     "output_type": "stream",
     "text": [
      "1.17 ms ± 48 μs per loop (mean ± std. dev. of 7 runs, 10,000 loops each)\n"
     ]
    }
   ],
   "source": [
    "%%timeit\n",
    "parallel_recurrent[BPG, TPB](X_dev, A_dev, B_dev, P, N)"
   ]
  },
  {
   "cell_type": "markdown",
   "id": "9da3b930-b6cb-4023-ba80-1943d12fc518",
   "metadata": {},
   "source": [
    "### Последовательно N = 100 000"
   ]
  },
  {
   "cell_type": "code",
   "execution_count": 18,
   "id": "5839f83a-6e92-4bd9-b3a7-572b60d2b46a",
   "metadata": {},
   "outputs": [],
   "source": [
    "np.random.seed(42)\n",
    "N = 100000\n",
    "A = np.random.rand(N)\n",
    "B = np.random.rand(N)\n",
    "X = np.zeros(N)\n",
    "X[0] = np.random.rand()"
   ]
  },
  {
   "cell_type": "code",
   "execution_count": 19,
   "id": "fe22f9d8-fec6-44ed-91da-fc473fecd2f0",
   "metadata": {},
   "outputs": [
    {
     "name": "stdout",
     "output_type": "stream",
     "text": [
      "40.1 ms ± 656 μs per loop (mean ± std. dev. of 7 runs, 10 loops each)\n"
     ]
    }
   ],
   "source": [
    "%%timeit\n",
    "recurrent(X, A, B, N)"
   ]
  },
  {
   "cell_type": "markdown",
   "id": "a1ed6d0c-7745-4f4e-bde6-4ddc5952b558",
   "metadata": {},
   "source": [
    "### Параллельный N = 100 000, P = 4"
   ]
  },
  {
   "cell_type": "code",
   "execution_count": 20,
   "id": "b607976e-0ccf-4fe3-a501-33b6d3ed194f",
   "metadata": {},
   "outputs": [],
   "source": [
    "np.random.seed(42)\n",
    "N = 100000\n",
    "P = 4\n",
    "A = np.random.rand(N)\n",
    "B = np.random.rand(N)\n",
    "X = np.zeros(N)\n",
    "X[0] = np.random.rand()\n",
    "\n",
    "X = prepare_x(X, A, B, N, P)  \n",
    "X_dev = cuda.to_device(X)\n",
    "A_dev = cuda.to_device(A)\n",
    "B_dev = cuda.to_device(B)\n",
    "\n",
    "TPB = P\n",
    "BPG = 1"
   ]
  },
  {
   "cell_type": "code",
   "execution_count": 21,
   "id": "ee879552-f1d9-4444-bd63-5c43b012c0f2",
   "metadata": {},
   "outputs": [
    {
     "name": "stdout",
     "output_type": "stream",
     "text": [
      "15.7 ms ± 41.3 μs per loop (mean ± std. dev. of 7 runs, 10,000 loops each)\n"
     ]
    }
   ],
   "source": [
    "%%timeit \n",
    "parallel_recurrent[BPG, TPB](X_dev, A_dev, B_dev, P, N)"
   ]
  },
  {
   "cell_type": "markdown",
   "id": "92efd728-ab67-462b-a00b-d2f7785b993d",
   "metadata": {},
   "source": [
    "## Сравнение результатов по времени"
   ]
  },
  {
   "cell_type": "code",
   "execution_count": 28,
   "id": "3d1e258c-2dee-42bd-9a3f-307e9a9b3844",
   "metadata": {},
   "outputs": [
    {
     "data": {
      "image/png": "[encoded data removed]",
      "text/plain": [
       "<Figure size 640x480 with 1 Axes>"
      ]
     },
     "metadata": {},
     "output_type": "display_data"
    }
   ],
   "source": [
    "import matplotlib.pyplot as plt\n",
    "\n",
    "ns = [1000, 10000, 100000]\n",
    "s_times = [0.419, 4.18, 40.1]\n",
    "p_times = [0.085, 1.17, 15.7]\n",
    "\n",
    "plt.plot(ns, s_times)\n",
    "plt.plot(ns, p_times)\n",
    "for x, y in zip(ns, s_times):\n",
    "    plt.text(x, y, f'{y:.1f}', ha='right', va='bottom')\n",
    "\n",
    "for x, y in zip(ns, p_times):\n",
    "    plt.text(x, y-2, f'{y:.1f}', ha='right', va='bottom')\n",
    "plt.title(\"Сравнение времени работы\")\n",
    "plt.xlabel(\"N\")\n",
    "plt.ylabel(\"Время (ms)\")\n",
    "plt.xscale('log')\n",
    "plt.grid(True)\n",
    "plt.legend(['Последовательно', 'Параллельно'])\n",
    "plt.xticks(ns)\n",
    "plt.show()"
   ]
  }
 ],
 "metadata": {
  "kernelspec": {
   "display_name": "Python 3 (ipykernel)",
   "language": "python",
   "name": "python3"
  },
  "language_info": {
   "codemirror_mode": {
    "name": "ipython",
    "version": 3
   },
   "file_extension": ".py",
   "mimetype": "text/x-python",
   "name": "python",
   "nbconvert_exporter": "python",
   "pygments_lexer": "ipython3",
   "version": "3.12.9"
  }
 },
 "nbformat": 4,
 "nbformat_minor": 5
}
