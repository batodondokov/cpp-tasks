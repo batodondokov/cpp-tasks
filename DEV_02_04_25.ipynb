{
  "nbformat": 4,
  "nbformat_minor": 0,
  "metadata": {
    "colab": {
      "provenance": []
    },
    "kernelspec": {
      "name": "python3",
      "display_name": "Python 3"
    },
    "language_info": {
      "name": "python"
    }
  },
  "cells": [
    {
      "cell_type": "markdown",
      "source": [
        "# Семестр 2. Задание 8. Библиотека Polars"
      ],
      "metadata": {
        "id": "fbVkeMKU7uCC"
      }
    },
    {
      "cell_type": "code",
      "source": [
        "import kagglehub\n",
        "\n",
        "# Download latest version\n",
        "path = kagglehub.dataset_download(\"sumitm004/arxiv-scientific-research-papers-dataset\")\n",
        "\n",
        "print(\"Path to dataset files:\", path)"
      ],
      "metadata": {
        "colab": {
          "base_uri": "https://localhost:8080/"
        },
        "id": "gxMCSIy4-tmm",
        "outputId": "f0d2f0ec-6117-4c6b-ede5-ab8709ebb1eb"
      },
      "execution_count": 1,
      "outputs": [
        {
          "output_type": "stream",
          "name": "stdout",
          "text": [
            "Path to dataset files: /kaggle/input/arxiv-scientific-research-papers-dataset\n"
          ]
        }
      ]
    },
    {
      "cell_type": "code",
      "source": [
        "!ls /kaggle/input/arxiv-scientific-research-papers-dataset"
      ],
      "metadata": {
        "colab": {
          "base_uri": "https://localhost:8080/"
        },
        "id": "8y8dL9Wy-zSF",
        "outputId": "e57dee75-e91d-4c55-d355-c80bd0a80ceb"
      },
      "execution_count": 7,
      "outputs": [
        {
          "output_type": "stream",
          "name": "stdout",
          "text": [
            "'arXiv_scientific dataset.csv'\n"
          ]
        }
      ]
    },
    {
      "cell_type": "code",
      "execution_count": 4,
      "metadata": {
        "id": "JB3KrCq8yhOC"
      },
      "outputs": [],
      "source": [
        "import polars as pl\n",
        "import pandas as pd"
      ]
    },
    {
      "cell_type": "markdown",
      "source": [
        "## 1. Прочитайте данные с помощью Pandas, Polars и Polars Lazy, выведите head(), засеките время работы"
      ],
      "metadata": {
        "id": "GqoqrObh7nsl"
      }
    },
    {
      "cell_type": "code",
      "source": [
        "%%timeit\n",
        "pd_df = pd.read_csv('/kaggle/input/arxiv-scientific-research-papers-dataset/arXiv_scientific dataset.csv')\n",
        "pd_df.head()"
      ],
      "metadata": {
        "colab": {
          "base_uri": "https://localhost:8080/"
        },
        "id": "vnEf8Lur64Zj",
        "outputId": "669f83f2-17d4-47fe-e2d0-cd25352e0469"
      },
      "execution_count": 9,
      "outputs": [
        {
          "output_type": "stream",
          "name": "stdout",
          "text": [
            "3.21 s ± 346 ms per loop (mean ± std. dev. of 7 runs, 1 loop each)\n"
          ]
        }
      ]
    },
    {
      "cell_type": "code",
      "source": [
        "%%timeit\n",
        "pl_df = pl.read_csv('/kaggle/input/arxiv-scientific-research-papers-dataset/arXiv_scientific dataset.csv')\n",
        "pl_df.head()"
      ],
      "metadata": {
        "colab": {
          "base_uri": "https://localhost:8080/"
        },
        "id": "P80Zzxov7BlT",
        "outputId": "3c61e6bf-6728-4348-c754-0e9d75e565d9"
      },
      "execution_count": 10,
      "outputs": [
        {
          "output_type": "stream",
          "name": "stdout",
          "text": [
            "317 ms ± 13 ms per loop (mean ± std. dev. of 7 runs, 1 loop each)\n"
          ]
        }
      ]
    },
    {
      "cell_type": "code",
      "source": [
        "%%timeit\n",
        "pl_lf = pl.scan_csv('/kaggle/input/arxiv-scientific-research-papers-dataset/arXiv_scientific dataset.csv')\n",
        "pl_lf.head().collect()"
      ],
      "metadata": {
        "colab": {
          "base_uri": "https://localhost:8080/"
        },
        "id": "WSg33EwN7Bu3",
        "outputId": "892fdefa-8613-4900-cc18-d424f4dab55b"
      },
      "execution_count": 11,
      "outputs": [
        {
          "output_type": "stream",
          "name": "stdout",
          "text": [
            "311 ms ± 7.29 ms per loop (mean ± std. dev. of 7 runs, 1 loop each)\n"
          ]
        }
      ]
    },
    {
      "cell_type": "code",
      "source": [
        "head_times = [3210., 317, 311]"
      ],
      "metadata": {
        "id": "bAtKJHF57Zr-"
      },
      "execution_count": 12,
      "outputs": []
    },
    {
      "cell_type": "markdown",
      "source": [
        "## 2. Также в трёх вариантах с замером времени сделайте запрос на подсчет процента, который занимают статьи в категориях (Например: компьютерное обучение - 30%, биология – 14% и т.п.)"
      ],
      "metadata": {
        "id": "ROiz8uMK7x_E"
      }
    },
    {
      "cell_type": "code",
      "source": [
        "%%timeit\n",
        "pd_df['category'].value_counts(normalize=True)"
      ],
      "metadata": {
        "colab": {
          "base_uri": "https://localhost:8080/"
        },
        "id": "4Vexq0SM7xHB",
        "outputId": "3b629587-c9f5-425b-8e91-2609c5db93a0"
      },
      "execution_count": 13,
      "outputs": [
        {
          "output_type": "stream",
          "name": "stdout",
          "text": [
            "11.6 ms ± 3.13 ms per loop (mean ± std. dev. of 7 runs, 100 loops each)\n"
          ]
        }
      ]
    },
    {
      "cell_type": "code",
      "source": [
        "%%timeit\n",
        "pl_df['category'].value_counts(normalize=True)"
      ],
      "metadata": {
        "colab": {
          "base_uri": "https://localhost:8080/"
        },
        "id": "oGscWpIDAHxE",
        "outputId": "f8dbaad5-4358-4302-f020-60b123c4ae4b"
      },
      "execution_count": 14,
      "outputs": [
        {
          "output_type": "stream",
          "name": "stdout",
          "text": [
            "8.12 ms ± 1.57 ms per loop (mean ± std. dev. of 7 runs, 100 loops each)\n"
          ]
        }
      ]
    },
    {
      "cell_type": "code",
      "source": [
        "%%timeit\n",
        "pl_lf.group_by('category').count().with_columns(\n",
        "    (pl.col(\"count\") / pl.col(\"count\").sum())\n",
        ").collect()"
      ],
      "metadata": {
        "colab": {
          "base_uri": "https://localhost:8080/"
        },
        "id": "MNm7ugu9F6rp",
        "outputId": "e79251f1-d0e1-43ab-c451-4bf021a4a8cb"
      },
      "execution_count": 18,
      "outputs": [
        {
          "output_type": "stream",
          "name": "stderr",
          "text": [
            "<magic-timeit>:1: DeprecationWarning: `LazyGroupBy.count` is deprecated. It has been renamed to `len`.\n"
          ]
        },
        {
          "output_type": "stream",
          "name": "stdout",
          "text": [
            "477 ms ± 4.49 ms per loop (mean ± std. dev. of 7 runs, 1 loop each)\n"
          ]
        }
      ]
    },
    {
      "cell_type": "code",
      "source": [
        "category_times = [11.6, 8.12, 477.]"
      ],
      "metadata": {
        "id": "PzYeEMeOd5s3"
      },
      "execution_count": 32,
      "outputs": []
    },
    {
      "cell_type": "markdown",
      "source": [
        "## Сделайте подсчет количества слов в статьях по каждой категории (в трёх вариантах с замером времени)"
      ],
      "metadata": {
        "id": "TKxzELxbeAFO"
      }
    },
    {
      "cell_type": "code",
      "source": [
        "%%timeit\n",
        "pd_df.groupby('category')[\"summary_word_count\"].sum()"
      ],
      "metadata": {
        "colab": {
          "base_uri": "https://localhost:8080/"
        },
        "id": "uh8lIZGSd_jh",
        "outputId": "dac0ae0e-1967-47fe-9f61-df2772ac95c2"
      },
      "execution_count": 28,
      "outputs": [
        {
          "output_type": "stream",
          "name": "stdout",
          "text": [
            "15 ms ± 2.56 ms per loop (mean ± std. dev. of 7 runs, 100 loops each)\n"
          ]
        }
      ]
    },
    {
      "cell_type": "code",
      "source": [
        "%%timeit\n",
        "pl_df.group_by('category').agg(pl.col(\"summary_word_count\").sum())"
      ],
      "metadata": {
        "colab": {
          "base_uri": "https://localhost:8080/"
        },
        "id": "C1gbO5LpfCx2",
        "outputId": "06f0b09b-b8fe-4ab8-ca99-704e6a8edb6d"
      },
      "execution_count": 29,
      "outputs": [
        {
          "output_type": "stream",
          "name": "stdout",
          "text": [
            "148 ms ± 21.5 ms per loop (mean ± std. dev. of 7 runs, 1 loop each)\n"
          ]
        }
      ]
    },
    {
      "cell_type": "code",
      "source": [
        "%%timeit\n",
        "pl_lf.group_by('category').agg(pl.col(\"summary_word_count\").sum()).collect()"
      ],
      "metadata": {
        "colab": {
          "base_uri": "https://localhost:8080/"
        },
        "id": "OLk6fCRsfqmR",
        "outputId": "43b18363-68d9-4575-87ce-48ac7706c468"
      },
      "execution_count": 31,
      "outputs": [
        {
          "output_type": "stream",
          "name": "stdout",
          "text": [
            "126 ms ± 14.4 ms per loop (mean ± std. dev. of 7 runs, 10 loops each)\n"
          ]
        }
      ]
    },
    {
      "cell_type": "code",
      "source": [
        "words_times = [15., 148., 126.]"
      ],
      "metadata": {
        "id": "cwGbExRDgEMH"
      },
      "execution_count": 34,
      "outputs": []
    },
    {
      "cell_type": "markdown",
      "source": [
        "## Сгруппируйте статьи по годам и подсчитайте суммарное количество слов статьях для каждого года (в трёх вариантах с замером времени)"
      ],
      "metadata": {
        "id": "vE8uxgxsgPCV"
      }
    },
    {
      "cell_type": "code",
      "source": [
        "%%timeit\n",
        "pd_df.groupby(pd.to_datetime(pd_df['published_date']).dt.year)[\"summary_word_count\"].sum()"
      ],
      "metadata": {
        "colab": {
          "base_uri": "https://localhost:8080/"
        },
        "id": "50KRavDVhGh5",
        "outputId": "08ff74c1-8415-4731-ae12-6ef886791f4e"
      },
      "execution_count": 41,
      "outputs": [
        {
          "output_type": "stream",
          "name": "stderr",
          "text": [
            "<magic-timeit>:1: UserWarning: Could not infer format, so each element will be parsed individually, falling back to `dateutil`. To ensure parsing is consistent and as-expected, please specify a format.\n",
            "<magic-timeit>:1: UserWarning: Could not infer format, so each element will be parsed individually, falling back to `dateutil`. To ensure parsing is consistent and as-expected, please specify a format.\n",
            "<magic-timeit>:1: UserWarning: Could not infer format, so each element will be parsed individually, falling back to `dateutil`. To ensure parsing is consistent and as-expected, please specify a format.\n",
            "<magic-timeit>:1: UserWarning: Could not infer format, so each element will be parsed individually, falling back to `dateutil`. To ensure parsing is consistent and as-expected, please specify a format.\n",
            "<magic-timeit>:1: UserWarning: Could not infer format, so each element will be parsed individually, falling back to `dateutil`. To ensure parsing is consistent and as-expected, please specify a format.\n",
            "<magic-timeit>:1: UserWarning: Could not infer format, so each element will be parsed individually, falling back to `dateutil`. To ensure parsing is consistent and as-expected, please specify a format.\n",
            "<magic-timeit>:1: UserWarning: Could not infer format, so each element will be parsed individually, falling back to `dateutil`. To ensure parsing is consistent and as-expected, please specify a format.\n",
            "<magic-timeit>:1: UserWarning: Could not infer format, so each element will be parsed individually, falling back to `dateutil`. To ensure parsing is consistent and as-expected, please specify a format.\n"
          ]
        },
        {
          "output_type": "stream",
          "name": "stdout",
          "text": [
            "394 ms ± 82.9 ms per loop (mean ± std. dev. of 7 runs, 1 loop each)\n"
          ]
        }
      ]
    },
    {
      "cell_type": "code",
      "source": [
        "%%timeit\n",
        "pl_df.group_by(pl_df['published_date'].str.to_date(\"%m/%d/%y\").dt.year()).agg(pl.col(\"summary_word_count\").sum())"
      ],
      "metadata": {
        "colab": {
          "base_uri": "https://localhost:8080/"
        },
        "id": "x3KRCE3mii5U",
        "outputId": "b09f5abb-7d63-48c8-d5be-0fc52e620515"
      },
      "execution_count": 66,
      "outputs": [
        {
          "output_type": "stream",
          "name": "stdout",
          "text": [
            "139 ms ± 14 ms per loop (mean ± std. dev. of 7 runs, 10 loops each)\n"
          ]
        }
      ]
    },
    {
      "cell_type": "code",
      "source": [
        "%%timeit\n",
        "pl_lf.group_by(pl_df['published_date'].str.to_date(\"%m/%d/%y\").dt.year()).agg(pl.col(\"summary_word_count\").sum()).collect()"
      ],
      "metadata": {
        "colab": {
          "base_uri": "https://localhost:8080/"
        },
        "id": "9yZooMWkk37e",
        "outputId": "af4c29e5-3b67-4a81-c0c9-94a8d29efbd7"
      },
      "execution_count": 67,
      "outputs": [
        {
          "output_type": "stream",
          "name": "stdout",
          "text": [
            "123 ms ± 11.5 ms per loop (mean ± std. dev. of 7 runs, 1 loop each)\n"
          ]
        }
      ]
    },
    {
      "cell_type": "code",
      "source": [
        "year_times = [394., 139., 123.]"
      ],
      "metadata": {
        "id": "rQs_Cz2YlvlS"
      },
      "execution_count": 68,
      "outputs": []
    },
    {
      "cell_type": "markdown",
      "source": [
        "## Сравнение результатов"
      ],
      "metadata": {
        "id": "kqq5OrudlPyA"
      }
    },
    {
      "cell_type": "code",
      "source": [
        "import matplotlib.pyplot as plt\n",
        "tasks = [1, 2, 3, 4]\n",
        "pd_times = [head_times[0], category_times[0], words_times[0], year_times[0]]\n",
        "pl_df_times = [head_times[1], category_times[1], words_times[1], year_times[1]]\n",
        "pl_lf_times = [head_times[2], category_times[2], words_times[2], year_times[2]]\n",
        "plt.plot(tasks, pd_times)\n",
        "plt.plot(tasks, pl_df_times)\n",
        "plt.plot(tasks, pl_lf_times)\n",
        "plt.title(\"Сравнение времени работы\")\n",
        "plt.xlabel(\"Задачи\")\n",
        "plt.ylabel(\"Время (ms)\")\n",
        "plt.grid(True)\n",
        "plt.legend(['Pandas', 'Polars-DataFrame', 'Polars-LazyFrame'])\n",
        "plt.xticks(tasks)\n",
        "plt.show()"
      ],
      "metadata": {
        "colab": {
          "base_uri": "https://localhost:8080/",
          "height": 472
        },
        "id": "IIUlDKb_lTFS",
        "outputId": "13d83dc1-b2bf-4be6-8d68-29a9e0d12189"
      },
      "execution_count": 75,
      "outputs": [
        {
          "output_type": "display_data",
          "data": {
            "text/plain": [
              "<Figure size 640x480 with 1 Axes>"
            ],
            "image/png": "[encoded data removed]"
          },
          "metadata": {}
        }
      ]
    },
    {
      "cell_type": "markdown",
      "source": [
        "## Выводы:\n",
        "1. Чтение и вывод данных происходит горазде быстрее при исползовании Polars.\n",
        "2. Простые задачи, такие как группировка по столбцу и агрегирование по столбцу на небольшом наборе данных, будет быстрее на обычном Pandas.\n",
        "3. Если задача требует проебразований столбцов, как в последнем задании, где нужно было определить год по строке, Polars справляется бысрее.\n",
        "4. Polars LazyFrame, практически во всех задачах на несколько десятком милисекунд быстрее чем Polars DataFrame."
      ],
      "metadata": {
        "id": "0IpZessxnjEm"
      }
    }
  ]
}