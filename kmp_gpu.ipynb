{
 "cells": [
  {
   "cell_type": "code",
   "execution_count": null,
   "id": "729a0b34-5262-43f6-a3c8-b0d3873c34a5",
   "metadata": {},
   "outputs": [],
   "source": [
    "!uv pip install -q --system numba-cuda==0.4.0"
   ]
  },
  {
   "cell_type": "code",
   "execution_count": 1,
   "id": "95141509-eb05-45cc-9298-862364b0669b",
   "metadata": {
    "id": "95141509-eb05-45cc-9298-862364b0669b"
   },
   "outputs": [],
   "source": [
    "import os; os.environ[\"NUMBA_ENABLE_CUDASIM\"] = \"1\"; os.environ[\"NUMBA_CUDA_DEBUGINFO\"] = \"1\";\n",
    "from numba import config\n",
    "config.CUDA_ENABLE_PYNVJITLINK = 1\n",
    "config.CUDA_LOW_OCCUPANCY_WARNINGS = 0\n",
    "import numpy as np\n",
    "import numba as nb\n",
    "from numba import cuda\n",
    "from numba import njit\n",
    "import random\n",
    "cuda.select_device(0)"
   ]
  },
  {
   "cell_type": "markdown",
   "id": "151874e3-3a65-4f7b-a02e-f0dd16e2b13f",
   "metadata": {
    "id": "151874e3-3a65-4f7b-a02e-f0dd16e2b13f"
   },
   "source": [
    "# Последовательный вариант"
   ]
  },
  {
   "cell_type": "code",
   "execution_count": 2,
   "id": "46f9c7a9-edcf-422d-a914-533bb3d98284",
   "metadata": {
    "id": "46f9c7a9-edcf-422d-a914-533bb3d98284"
   },
   "outputs": [],
   "source": [
    "text = 'aabaabaaaabaabaaabaa'\n",
    "pattern = 'aabaa'\n",
    "n = len(text)\n",
    "m = len(pattern)"
   ]
  },
  {
   "cell_type": "code",
   "execution_count": 3,
   "id": "3b33888b-6de5-4685-9269-1e623767abcb",
   "metadata": {
    "id": "3b33888b-6de5-4685-9269-1e623767abcb"
   },
   "outputs": [],
   "source": [
    "def get_failure_links(pattern):\n",
    "    result = np.zeros(len(pattern), dtype='i')\n",
    "    k = 0\n",
    "    for i in range(1, len(pattern)):\n",
    "        while k > 0 and pattern[i] != pattern[k]:\n",
    "            k = result[k - 1]\n",
    "        if pattern[i] == pattern[k]:\n",
    "            k += 1\n",
    "        result[i] = k\n",
    "    return result"
   ]
  },
  {
   "cell_type": "code",
   "execution_count": 4,
   "id": "86943ec3-7c8b-4e5b-b771-9e91976c98c9",
   "metadata": {
    "colab": {
     "base_uri": "https://localhost:8080/"
    },
    "id": "86943ec3-7c8b-4e5b-b771-9e91976c98c9",
    "outputId": "893ff6f0-e062-40aa-aa63-b1740f5fdb9c"
   },
   "outputs": [],
   "source": [
    "def kmp(text, pattern, fail):\n",
    "    fail = get_failure_links(pattern)\n",
    "    results = np.zeros(len(text))\n",
    "    k = 0\n",
    "    for i in range(len(text)):\n",
    "      while k > 0 and text[i] != pattern[k]:   \n",
    "          k = fail[k - 1]\n",
    "      if text[i] == pattern[k]:\n",
    "          results[i]=k\n",
    "          k += 1\n",
    "      if k == len(pattern):\n",
    "          results[i]=k\n",
    "          k = fail[k - 1]  \n",
    "    return np.array(results)"
   ]
  },
  {
   "cell_type": "code",
   "execution_count": 5,
   "id": "ca31c46d-8c98-4990-a48a-2bd6fb452807",
   "metadata": {},
   "outputs": [
    {
     "name": "stdout",
     "output_type": "stream",
     "text": [
      "[0. 1. 2. 3. 5. 2. 3. 5. 1. 1. 2. 3. 5. 2. 3. 5. 1. 2. 3. 5.]\n"
     ]
    }
   ],
   "source": [
    "fail = get_failure_links(pattern)\n",
    "result = kmp(text, pattern, fail)\n",
    "print(result)"
   ]
  },
  {
   "cell_type": "markdown",
   "id": "685bfe6b-35f1-436b-9f5d-30580c823ad3",
   "metadata": {
    "id": "685bfe6b-35f1-436b-9f5d-30580c823ad3"
   },
   "source": [
    "# Парралельный вариант"
   ]
  },
  {
   "cell_type": "code",
   "execution_count": 6,
   "id": "47a8ebf4-762d-4797-9556-cdf093e4e1fe",
   "metadata": {
    "colab": {
     "base_uri": "https://localhost:8080/"
    },
    "id": "47a8ebf4-762d-4797-9556-cdf093e4e1fe",
    "outputId": "b3d71d01-70e8-468d-d50a-b58576645b1c"
   },
   "outputs": [],
   "source": [
    "@njit\n",
    "def get_failure_links_njit(pattern):\n",
    "    result = np.zeros(len(pattern), dtype='i')\n",
    "    k = 0\n",
    "    for i in range(1, len(pattern)):\n",
    "        while k > 0 and pattern[i] != pattern[k]:\n",
    "            k = result[k - 1]\n",
    "        if pattern[i] == pattern[k]:\n",
    "            k += 1\n",
    "        result[i] = k\n",
    "    return result"
   ]
  },
  {
   "cell_type": "code",
   "execution_count": 7,
   "id": "be0c4eb1-958c-462a-b769-128b45998d19",
   "metadata": {
    "id": "be0c4eb1-958c-462a-b769-128b45998d19"
   },
   "outputs": [],
   "source": [
    "@cuda.jit\n",
    "def kmp_cuda(text, pattern, fail, results, segment_starts, segment_end):\n",
    "    tdx = cuda.grid(1)\n",
    "    k = 0\n",
    "    for i in range(segment_starts[tdx], segment_end[tdx]):\n",
    "      while k > 0 and text[i] != pattern[k]:\n",
    "          k = fail[k - 1]\n",
    "          cuda.atomic.max(results, i, k)\n",
    "      if text[i] == pattern[k]:\n",
    "          k += 1\n",
    "          cuda.atomic.max(results, i, k)\n",
    "      if k == len(pattern):\n",
    "          cuda.atomic.max(results, i, k)\n",
    "          k = fail[k - 1]  "
   ]
  },
  {
   "cell_type": "code",
   "execution_count": 8,
   "id": "ac6fa78a-7113-4b25-9088-86d08b3a6656",
   "metadata": {
    "id": "ac6fa78a-7113-4b25-9088-86d08b3a6656"
   },
   "outputs": [
    {
     "name": "stdout",
     "output_type": "stream",
     "text": [
      "[0. 1. 2. 3. 5. 2. 3. 5. 1. 1. 2. 3. 5. 2. 3. 5. 1. 2. 3. 5.]\n"
     ]
    }
   ],
   "source": [
    "fail = get_failure_links_njit(pattern)\n",
    "p =  2\n",
    "\n",
    "d_text = cuda.to_device(np.array(list(text)))\n",
    "d_pattern = cuda.to_device(np.array(list(pattern)))\n",
    "d_fail = cuda.to_device(np.array(fail, dtype=np.int32))\n",
    "d_results = cuda.to_device(np.zeros(n, dtype=np.int32))\n",
    "\n",
    "segment_starts1 = np.arange(0, n, n//p, dtype=np.int32)\n",
    "segment_starts2 = np.arange(n//p//2, n-n//p, n//p, dtype=np.int32)\n",
    "segment_starts = np.sort(np.concatenate([segment_starts1, segment_starts2]))\n",
    "segment_ends = segment_starts + n//p\n",
    "d_segment_starts = cuda.to_device(segment_starts)\n",
    "d_segment_ends = cuda.to_device(segment_ends)\n",
    "\n",
    "threadsperblock = segment_starts.size\n",
    "blockspergrid = 1\n",
    "\n",
    "kmp_cuda[blockspergrid, threadsperblock](d_text, d_pattern, d_fail, d_results, d_segment_starts, d_segment_ends)\n",
    "\n",
    "results = d_results.copy_to_host()\n",
    "print(result)"
   ]
  },
  {
   "cell_type": "markdown",
   "id": "b3d44ff8-20b9-4da8-a5e6-9ecaffcf416a",
   "metadata": {
    "id": "b3d44ff8-20b9-4da8-a5e6-9ecaffcf416a"
   },
   "source": [
    "# Сравнение времени работы"
   ]
  },
  {
   "cell_type": "markdown",
   "id": "b858dadd-d2f7-41a0-85a2-3d29db97df2e",
   "metadata": {
    "id": "n-BLnSFw1cWT"
   },
   "source": [
    "### Последовательно N = 1000"
   ]
  },
  {
   "cell_type": "code",
   "execution_count": 9,
   "id": "1af5e1b5-dc41-4cd3-af13-646241f6962c",
   "metadata": {
    "id": "3a6b176e-5abf-4310-960d-4d92a9ef313d"
   },
   "outputs": [],
   "source": [
    "np.random.seed(42)\n",
    "text = np.random.choice(['a','b'], 1000)\n",
    "pattern = np.array(['a','a', 'b', 'a', 'a'])\n",
    "fail = get_failure_links(pattern)"
   ]
  },
  {
   "cell_type": "code",
   "execution_count": 10,
   "id": "1140c1da-9e61-4c0c-b2e6-20fe7317b54f",
   "metadata": {
    "id": "bc7c3879-4ee7-481d-8c7a-b0571ed45099",
    "scrolled": true
   },
   "outputs": [
    {
     "name": "stdout",
     "output_type": "stream",
     "text": [
      "1.17 ms ± 31.4 μs per loop (mean ± std. dev. of 7 runs, 1,000 loops each)\n"
     ]
    }
   ],
   "source": [
    "%%timeit\n",
    "kmp(text, pattern, fail)"
   ]
  },
  {
   "cell_type": "markdown",
   "id": "19852ec6-f8d3-44de-87f9-b1ef1e934b13",
   "metadata": {
    "id": "H_TCls0F2QG6"
   },
   "source": [
    "### Параллельно N = 1000"
   ]
  },
  {
   "cell_type": "code",
   "execution_count": 11,
   "id": "4831f3af-b925-4761-8328-57a3be43e12a",
   "metadata": {},
   "outputs": [],
   "source": [
    "n = len(text)\n",
    "m = len(pattern)\n",
    "p = 4\n",
    "fail = get_failure_links_njit(pattern)\n",
    "\n",
    "d_text = cuda.to_device(text)\n",
    "d_pattern = cuda.to_device(pattern)\n",
    "d_fail = cuda.to_device(np.array(fail, dtype=np.int32))\n",
    "d_results = cuda.to_device(np.zeros(n, dtype=np.int32))\n",
    "\n",
    "segment_starts1 = np.arange(0, n, n//p, dtype=np.int32)\n",
    "segment_starts2 = np.arange(n//p//2, n-n//p, n//p, dtype=np.int32)\n",
    "segment_starts = np.sort(np.concatenate([segment_starts1, segment_starts2]))\n",
    "segment_ends = segment_starts + n//p\n",
    "d_segment_starts = cuda.to_device(segment_starts)\n",
    "d_segment_ends = cuda.to_device(segment_ends)\n",
    "\n",
    "threadsperblock = segment_starts.size\n",
    "blockspergrid = 1"
   ]
  },
  {
   "cell_type": "code",
   "execution_count": 12,
   "id": "93aad1f6-a417-456b-a560-f93e8a6a4761",
   "metadata": {
    "id": "1198e397-5f49-4284-81de-79e57cf5a3e8"
   },
   "outputs": [
    {
     "name": "stdout",
     "output_type": "stream",
     "text": [
      "10.2 ms ± 274 μs per loop (mean ± std. dev. of 7 runs, 100 loops each)\n"
     ]
    }
   ],
   "source": [
    "%%timeit\n",
    "kmp_cuda[blockspergrid, threadsperblock](d_text, d_pattern, d_fail, d_results, d_segment_starts, d_segment_ends)"
   ]
  },
  {
   "cell_type": "markdown",
   "id": "3d200c0a-b0e8-4f98-93ac-3bc9fbb8b152",
   "metadata": {
    "id": "n-BLnSFw1cWT"
   },
   "source": [
    "### Последовательно N = 10 000"
   ]
  },
  {
   "cell_type": "code",
   "execution_count": 15,
   "id": "1d6f3957-6c37-456c-b021-66c092b0a84e",
   "metadata": {
    "id": "3a6b176e-5abf-4310-960d-4d92a9ef313d"
   },
   "outputs": [],
   "source": [
    "np.random.seed(42)\n",
    "text = np.random.choice(['a','b'], 10000)\n",
    "pattern = np.array(['a','a', 'b', 'a', 'a'])\n",
    "fail = get_failure_links(pattern)"
   ]
  },
  {
   "cell_type": "code",
   "execution_count": 16,
   "id": "15c8936f-b0e0-493e-85f1-d72c467cd911",
   "metadata": {
    "id": "bc7c3879-4ee7-481d-8c7a-b0571ed45099"
   },
   "outputs": [
    {
     "name": "stdout",
     "output_type": "stream",
     "text": [
      "13 ms ± 579 μs per loop (mean ± std. dev. of 7 runs, 100 loops each)\n"
     ]
    }
   ],
   "source": [
    "%%timeit\n",
    "kmp(text, pattern, fail)"
   ]
  },
  {
   "cell_type": "markdown",
   "id": "6f4cc3db-1da4-45fd-a6e1-74d21dbbfede",
   "metadata": {
    "id": "H_TCls0F2QG6"
   },
   "source": [
    "### Параллельно N = 10 000"
   ]
  },
  {
   "cell_type": "code",
   "execution_count": 17,
   "id": "57aff340-1331-4375-8395-5cf8df5207af",
   "metadata": {},
   "outputs": [],
   "source": [
    "n = len(text)\n",
    "m = len(pattern)\n",
    "p = 4\n",
    "fail = get_failure_links_njit(pattern)\n",
    "\n",
    "d_text = cuda.to_device(text)\n",
    "d_pattern = cuda.to_device(pattern)\n",
    "d_fail = cuda.to_device(np.array(fail, dtype=np.int32))\n",
    "d_results = cuda.to_device(np.zeros(n, dtype=np.int32))\n",
    "\n",
    "segment_starts1 = np.arange(0, n, n//p, dtype=np.int32)\n",
    "segment_starts2 = np.arange(n//p//2, n-n//p, n//p, dtype=np.int32)\n",
    "segment_starts = np.sort(np.concatenate([segment_starts1, segment_starts2]))\n",
    "segment_ends = segment_starts + n//p\n",
    "d_segment_starts = cuda.to_device(segment_starts)\n",
    "d_segment_ends = cuda.to_device(segment_ends)\n",
    "\n",
    "threadsperblock = segment_starts.size\n",
    "blockspergrid = 1"
   ]
  },
  {
   "cell_type": "code",
   "execution_count": 18,
   "id": "ed6f5df7-449f-48b0-b18f-919b85196ac6",
   "metadata": {
    "id": "1198e397-5f49-4284-81de-79e57cf5a3e8"
   },
   "outputs": [
    {
     "name": "stdout",
     "output_type": "stream",
     "text": [
      "75.6 ms ± 2.3 ms per loop (mean ± std. dev. of 7 runs, 10 loops each)\n"
     ]
    }
   ],
   "source": [
    "%%timeit\n",
    "kmp_cuda[blockspergrid, threadsperblock](d_text, d_pattern, d_fail, d_results, d_segment_starts, d_segment_ends)"
   ]
  },
  {
   "cell_type": "markdown",
   "id": "814a37ed-c20d-4e2d-895c-18ee2818ad51",
   "metadata": {
    "id": "n-BLnSFw1cWT"
   },
   "source": [
    "### Последовательно N = 100 000"
   ]
  },
  {
   "cell_type": "code",
   "execution_count": 19,
   "id": "5f77e765-7149-4eaf-b2c9-d4b5e19c0bbc",
   "metadata": {
    "id": "3a6b176e-5abf-4310-960d-4d92a9ef313d"
   },
   "outputs": [],
   "source": [
    "np.random.seed(42)\n",
    "text = np.random.choice(['a','b'], 100000)\n",
    "pattern = np.array(['a','a', 'b', 'a', 'a'])\n",
    "fail = get_failure_links(pattern)"
   ]
  },
  {
   "cell_type": "code",
   "execution_count": 20,
   "id": "62bd5869-cfe5-4890-9759-6a1721dfb4ce",
   "metadata": {
    "id": "bc7c3879-4ee7-481d-8c7a-b0571ed45099"
   },
   "outputs": [
    {
     "name": "stdout",
     "output_type": "stream",
     "text": [
      "CPU times: user 131 ms, sys: 1.13 ms, total: 132 ms\n",
      "Wall time: 128 ms\n"
     ]
    },
    {
     "data": {
      "text/plain": [
       "array([0., 0., 0., ..., 0., 0., 0.])"
      ]
     },
     "execution_count": 20,
     "metadata": {},
     "output_type": "execute_result"
    }
   ],
   "source": [
    "%%time\n",
    "kmp(text, pattern, fail)"
   ]
  },
  {
   "cell_type": "markdown",
   "id": "f776a8bb-2d0a-497c-8183-b44757b85ada",
   "metadata": {
    "id": "H_TCls0F2QG6"
   },
   "source": [
    "### Параллельно N = 100 000"
   ]
  },
  {
   "cell_type": "code",
   "execution_count": 21,
   "id": "f2710fae-ee7b-49b6-9a82-17940e28865e",
   "metadata": {},
   "outputs": [],
   "source": [
    "n = len(text)\n",
    "m = len(pattern)\n",
    "p = 4\n",
    "fail = get_failure_links_njit(pattern)\n",
    "\n",
    "d_text = cuda.to_device(text)\n",
    "d_pattern = cuda.to_device(pattern)\n",
    "d_fail = cuda.to_device(np.array(fail, dtype=np.int32))\n",
    "d_results = cuda.to_device(np.zeros(n, dtype=np.int32))\n",
    "\n",
    "segment_starts1 = np.arange(0, n, n//p, dtype=np.int32)\n",
    "segment_starts2 = np.arange(n//p//2, n-n//p, n//p, dtype=np.int32)\n",
    "segment_starts = np.sort(np.concatenate([segment_starts1, segment_starts2]))\n",
    "segment_ends = segment_starts + n//p\n",
    "d_segment_starts = cuda.to_device(segment_starts)\n",
    "d_segment_ends = cuda.to_device(segment_ends)\n",
    "\n",
    "threadsperblock = segment_starts.size\n",
    "blockspergrid = 1"
   ]
  },
  {
   "cell_type": "code",
   "execution_count": 22,
   "id": "aaeabf08-1518-4a48-b901-b1c098251985",
   "metadata": {
    "id": "1198e397-5f49-4284-81de-79e57cf5a3e8"
   },
   "outputs": [
    {
     "name": "stdout",
     "output_type": "stream",
     "text": [
      "CPU times: user 993 ms, sys: 17.4 ms, total: 1.01 s\n",
      "Wall time: 990 ms\n"
     ]
    }
   ],
   "source": [
    "%%time\n",
    "kmp_cuda[blockspergrid, threadsperblock](d_text, d_pattern, d_fail, d_results, d_segment_starts, d_segment_ends)"
   ]
  },
  {
   "cell_type": "markdown",
   "id": "52b564f3-87af-41f4-ac96-7b166db6c995",
   "metadata": {},
   "source": [
    "## Сравнение результатов по времени"
   ]
  },
  {
   "cell_type": "code",
   "execution_count": 24,
   "id": "3a073590-bed5-42e7-831e-c7f7a01818a2",
   "metadata": {
    "id": "3a073590-bed5-42e7-831e-c7f7a01818a2",
    "outputId": "c1055786-a175-4d51-9651-3993e3101d88"
   },
   "outputs": [
    {
     "data": {
      "image/png": "[encoded data removed]",
      "text/plain": [
       "<Figure size 640x480 with 1 Axes>"
      ]
     },
     "metadata": {},
     "output_type": "display_data"
    }
   ],
   "source": [
    "import matplotlib.pyplot as plt\n",
    "ns = [1000, 10000, 100000]\n",
    "s_times = [1.17, 13.2, 131.]\n",
    "p_times = [10.2, 75.6, 993.]\n",
    "\n",
    "plt.plot(ns, s_times)\n",
    "plt.plot(ns, p_times)\n",
    "for x, y in zip(ns, s_times):\n",
    "    plt.text(x, y-55, f'{y:.1f}', ha='right', va='bottom')\n",
    "\n",
    "for x, y in zip(ns, p_times):\n",
    "    plt.text(x, y, f'{y:.1f}', ha='right', va='bottom')\n",
    "plt.title(\"Сравнение времени работы\")\n",
    "plt.xlabel(\"N\")\n",
    "plt.ylabel(\"Время (ms)\")\n",
    "plt.xscale('log')\n",
    "plt.grid(True)\n",
    "plt.legend(['Последовательно', 'Параллельно'])\n",
    "plt.xticks(ns)\n",
    "plt.show()"
   ]
  }
 ],
 "metadata": {
  "accelerator": "GPU",
  "colab": {
   "gpuType": "T4",
   "provenance": []
  },
  "kernelspec": {
   "display_name": "Python 3 (ipykernel)",
   "language": "python",
   "name": "python3"
  },
  "language_info": {
   "codemirror_mode": {
    "name": "ipython",
    "version": 3
   },
   "file_extension": ".py",
   "mimetype": "text/x-python",
   "name": "python",
   "nbconvert_exporter": "python",
   "pygments_lexer": "ipython3",
   "version": "3.12.9"
  }
 },
 "nbformat": 4,
 "nbformat_minor": 5
}
