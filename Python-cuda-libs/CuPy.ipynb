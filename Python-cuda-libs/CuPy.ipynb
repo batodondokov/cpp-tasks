{
 "cells": [
  {
   "cell_type": "markdown",
   "metadata": {
    "id": "WGx1gSIbLpZt"
   },
   "source": [
    "# Задание\n",
    "Реализовать задачу расчета распространения тепла в\n",
    "изолированной среде с помощью численного решения\n",
    "уравнения Лапласа."
   ]
  },
  {
   "cell_type": "code",
   "execution_count": 80,
   "metadata": {
    "id": "f_9g_kjFYTUF"
   },
   "outputs": [],
   "source": [
    "import numpy as np\n",
    "t = 2\n",
    "dt = 0.2\n",
    "n = [32, 128, 512, 1024, 2048]\n",
    "def_temp = 20.0\n",
    "hot_temp = 5600.0"
   ]
  },
  {
   "cell_type": "markdown",
   "metadata": {
    "id": "4mHNJVDyLwd-"
   },
   "source": [
    "## на «чистом» Python"
   ]
  },
  {
   "cell_type": "code",
   "execution_count": 71,
   "metadata": {},
   "outputs": [],
   "source": [
    "def laplace(t, dt, n, def_temp, hot_temp):\n",
    "    X = [[def_temp]*(n+2) for i in range(n+2)]\n",
    "    hot_point = int(n/2)+1\n",
    "    X[hot_point][hot_point] = hot_temp\n",
    "\n",
    "    iterations_num = int(t/dt)\n",
    "    for iteration in range(iterations_num):\n",
    "        for i in range(1, n+1):\n",
    "            for j in range(1, n+1):\n",
    "                X[i][j] = 1/4 * (X[i-1][j] + X[i][j+1] + X[i+1][j] + X[i][j-1])\n",
    "    return [row[1:n+1] for row in X[1:n+1]]"
   ]
  },
  {
   "cell_type": "code",
   "execution_count": 72,
   "metadata": {
    "colab": {
     "base_uri": "https://localhost:8080/"
    },
    "id": "X4CC6A1tUX9X",
    "outputId": "3ab134d6-3f93-4f1d-ccf4-99466453bbaa"
   },
   "outputs": [
    {
     "name": "stdout",
     "output_type": "stream",
     "text": [
      "2.49 ms ± 155 µs per loop (mean ± std. dev. of 7 runs, 100 loops each)\n"
     ]
    }
   ],
   "source": [
    "%%timeit\n",
    "laplace(t, dt, n[0], def_temp, hot_temp)"
   ]
  },
  {
   "cell_type": "code",
   "execution_count": 73,
   "metadata": {
    "colab": {
     "base_uri": "https://localhost:8080/"
    },
    "id": "X4CC6A1tUX9X",
    "outputId": "3ab134d6-3f93-4f1d-ccf4-99466453bbaa"
   },
   "outputs": [
    {
     "name": "stdout",
     "output_type": "stream",
     "text": [
      "39.7 ms ± 1.54 ms per loop (mean ± std. dev. of 7 runs, 10 loops each)\n"
     ]
    }
   ],
   "source": [
    "%%timeit\n",
    "laplace(t, dt, n[1], def_temp, hot_temp)"
   ]
  },
  {
   "cell_type": "code",
   "execution_count": 74,
   "metadata": {
    "colab": {
     "base_uri": "https://localhost:8080/"
    },
    "id": "X4CC6A1tUX9X",
    "outputId": "3ab134d6-3f93-4f1d-ccf4-99466453bbaa"
   },
   "outputs": [
    {
     "name": "stdout",
     "output_type": "stream",
     "text": [
      "684 ms ± 22 ms per loop (mean ± std. dev. of 7 runs, 1 loop each)\n"
     ]
    }
   ],
   "source": [
    "%%timeit\n",
    "laplace(t, dt, n[2], def_temp, hot_temp)"
   ]
  },
  {
   "cell_type": "code",
   "execution_count": 75,
   "metadata": {
    "colab": {
     "base_uri": "https://localhost:8080/"
    },
    "id": "X4CC6A1tUX9X",
    "outputId": "3ab134d6-3f93-4f1d-ccf4-99466453bbaa"
   },
   "outputs": [
    {
     "name": "stdout",
     "output_type": "stream",
     "text": [
      "2.8 s ± 103 ms per loop (mean ± std. dev. of 7 runs, 1 loop each)\n"
     ]
    }
   ],
   "source": [
    "%%timeit\n",
    "laplace(t, dt, n[3], def_temp, hot_temp)"
   ]
  },
  {
   "cell_type": "code",
   "execution_count": 76,
   "metadata": {
    "colab": {
     "base_uri": "https://localhost:8080/"
    },
    "id": "X4CC6A1tUX9X",
    "outputId": "3ab134d6-3f93-4f1d-ccf4-99466453bbaa"
   },
   "outputs": [
    {
     "name": "stdout",
     "output_type": "stream",
     "text": [
      "12 s ± 225 ms per loop (mean ± std. dev. of 7 runs, 1 loop each)\n"
     ]
    }
   ],
   "source": [
    "%%timeit\n",
    "laplace(t, dt, n[4], def_temp, hot_temp)"
   ]
  },
  {
   "cell_type": "markdown",
   "metadata": {},
   "source": [
    "## с помощью NumPy"
   ]
  },
  {
   "cell_type": "code",
   "execution_count": 47,
   "metadata": {},
   "outputs": [],
   "source": [
    "def laplace_np(t, dt, n, def_temp, hot_temp):\n",
    "    X = np.full((n+2,n+2), def_temp)\n",
    "    hot_point = int(n/2)+1\n",
    "    X[hot_point][hot_point] = hot_temp\n",
    "    \n",
    "    for iteration in np.arange(0, t, dt):\n",
    "        X[1:n+1, 1:n+1] = np.mean(np.array([X[:-2, 1:n+1], X[1:n+1, 2:],X[2:, 1:n+1],X[1:n+1,:-2]]))\n",
    "        \n",
    "    return X[1:n+1, 1:n+1]"
   ]
  },
  {
   "cell_type": "code",
   "execution_count": 60,
   "metadata": {
    "colab": {
     "base_uri": "https://localhost:8080/"
    },
    "id": "kLsCmUyGL2CH",
    "outputId": "47f22c94-eb89-4c72-a7ab-081fd6214464"
   },
   "outputs": [
    {
     "name": "stdout",
     "output_type": "stream",
     "text": [
      "163 µs ± 8.1 µs per loop (mean ± std. dev. of 7 runs, 10,000 loops each)\n"
     ]
    }
   ],
   "source": [
    "%%timeit\n",
    "laplace_np(t, dt, n[0], def_temp, hot_temp)"
   ]
  },
  {
   "cell_type": "code",
   "execution_count": 61,
   "metadata": {
    "colab": {
     "base_uri": "https://localhost:8080/"
    },
    "id": "kLsCmUyGL2CH",
    "outputId": "47f22c94-eb89-4c72-a7ab-081fd6214464"
   },
   "outputs": [
    {
     "name": "stdout",
     "output_type": "stream",
     "text": [
      "593 µs ± 24.6 µs per loop (mean ± std. dev. of 7 runs, 1,000 loops each)\n"
     ]
    }
   ],
   "source": [
    "%%timeit\n",
    "laplace_np(t, dt, n[1], def_temp, hot_temp)"
   ]
  },
  {
   "cell_type": "code",
   "execution_count": 62,
   "metadata": {
    "colab": {
     "base_uri": "https://localhost:8080/"
    },
    "id": "kLsCmUyGL2CH",
    "outputId": "47f22c94-eb89-4c72-a7ab-081fd6214464"
   },
   "outputs": [
    {
     "name": "stdout",
     "output_type": "stream",
     "text": [
      "16.2 ms ± 3.11 ms per loop (mean ± std. dev. of 7 runs, 100 loops each)\n"
     ]
    }
   ],
   "source": [
    "%%timeit\n",
    "laplace_np(t, dt, n[2], def_temp, hot_temp)"
   ]
  },
  {
   "cell_type": "code",
   "execution_count": 63,
   "metadata": {
    "colab": {
     "base_uri": "https://localhost:8080/"
    },
    "id": "kLsCmUyGL2CH",
    "outputId": "47f22c94-eb89-4c72-a7ab-081fd6214464"
   },
   "outputs": [
    {
     "name": "stdout",
     "output_type": "stream",
     "text": [
      "133 ms ± 13.9 ms per loop (mean ± std. dev. of 7 runs, 10 loops each)\n"
     ]
    }
   ],
   "source": [
    "%%timeit\n",
    "laplace_np(t, dt, n[3], def_temp, hot_temp)"
   ]
  },
  {
   "cell_type": "code",
   "execution_count": 64,
   "metadata": {
    "colab": {
     "base_uri": "https://localhost:8080/"
    },
    "id": "kLsCmUyGL2CH",
    "outputId": "47f22c94-eb89-4c72-a7ab-081fd6214464"
   },
   "outputs": [
    {
     "name": "stdout",
     "output_type": "stream",
     "text": [
      "480 ms ± 43.9 ms per loop (mean ± std. dev. of 7 runs, 1 loop each)\n"
     ]
    }
   ],
   "source": [
    "%%timeit\n",
    "laplace_np(t, dt, n[4], def_temp, hot_temp)"
   ]
  },
  {
   "cell_type": "markdown",
   "metadata": {},
   "source": [
    "## с помощью CuPy"
   ]
  },
  {
   "cell_type": "code",
   "execution_count": 65,
   "metadata": {
    "id": "tP-40zT_CKUg"
   },
   "outputs": [],
   "source": [
    "import cupy\n",
    "\n",
    "def laplace_cupy(t, dt, n, def_temp, hot_temp):\n",
    "    X = cupy.full((n+2,n+2), def_temp)\n",
    "    hot_point = int(n/2)+1\n",
    "    X[hot_point][hot_point] = hot_temp\n",
    "    \n",
    "    for iteration in cupy.arange(0, t, dt):\n",
    "        X[1:n+1, 1:n+1] = cupy.mean(cupy.array([X[:-2, 1:n+1], X[1:n+1, 2:],X[2:, 1:n+1],X[1:n+1,:-2]]))\n",
    "    return X[1:n+1, 1:n+1]"
   ]
  },
  {
   "cell_type": "code",
   "execution_count": 66,
   "metadata": {
    "id": "C5inrwx-gi8G"
   },
   "outputs": [
    {
     "name": "stdout",
     "output_type": "stream",
     "text": [
      "1.02 ms ± 58.3 µs per loop (mean ± std. dev. of 7 runs, 1 loop each)\n"
     ]
    }
   ],
   "source": [
    "%%timeit\n",
    "laplace_cupy(t, dt, n[0], def_temp, hot_temp)"
   ]
  },
  {
   "cell_type": "code",
   "execution_count": 67,
   "metadata": {
    "id": "C5inrwx-gi8G"
   },
   "outputs": [
    {
     "name": "stdout",
     "output_type": "stream",
     "text": [
      "1.03 ms ± 50.2 µs per loop (mean ± std. dev. of 7 runs, 1,000 loops each)\n"
     ]
    }
   ],
   "source": [
    "%%timeit\n",
    "laplace_cupy(t, dt, n[1], def_temp, hot_temp)"
   ]
  },
  {
   "cell_type": "code",
   "execution_count": 68,
   "metadata": {
    "id": "C5inrwx-gi8G"
   },
   "outputs": [
    {
     "name": "stdout",
     "output_type": "stream",
     "text": [
      "6.99 ms ± 223 µs per loop (mean ± std. dev. of 7 runs, 100 loops each)\n"
     ]
    }
   ],
   "source": [
    "%%timeit\n",
    "laplace_cupy(t, dt, n[2], def_temp, hot_temp)"
   ]
  },
  {
   "cell_type": "code",
   "execution_count": 69,
   "metadata": {
    "id": "C5inrwx-gi8G"
   },
   "outputs": [
    {
     "name": "stdout",
     "output_type": "stream",
     "text": [
      "27.7 ms ± 801 µs per loop (mean ± std. dev. of 7 runs, 100 loops each)\n"
     ]
    }
   ],
   "source": [
    "%%timeit\n",
    "laplace_cupy(t, dt, n[3], def_temp, hot_temp)"
   ]
  },
  {
   "cell_type": "code",
   "execution_count": 70,
   "metadata": {
    "id": "C5inrwx-gi8G"
   },
   "outputs": [
    {
     "name": "stdout",
     "output_type": "stream",
     "text": [
      "108 ms ± 17.9 ms per loop (mean ± std. dev. of 7 runs, 10 loops each)\n"
     ]
    }
   ],
   "source": [
    "%%timeit\n",
    "laplace_cupy(t, dt, n[4], def_temp, hot_temp)"
   ]
  },
  {
   "cell_type": "markdown",
   "metadata": {},
   "source": [
    "## Сравнение времени работы"
   ]
  },
  {
   "cell_type": "code",
   "execution_count": 90,
   "metadata": {},
   "outputs": [
    {
     "data": {
      "image/png": "[encoded data removed]",
      "text/plain": [
       "<Figure size 640x480 with 1 Axes>"
      ]
     },
     "metadata": {},
     "output_type": "display_data"
    }
   ],
   "source": [
    "import matplotlib.pyplot as plt\n",
    "\n",
    "python_times = [2.49, 39.7, 684.0, 2800.0, 12000.0]\n",
    "np_times = [0.163, 0.593, 16.2, 133.0, 480.0]\n",
    "cupy_times = [1.02, 1.03, 6.99, 27.7, 108.0]\n",
    "\n",
    "plt.plot(n, python_times)\n",
    "plt.plot(n, np_times)\n",
    "plt.plot(n, cupy_times)\n",
    "plt.title(\"Сравнение времени работы\")\n",
    "plt.xlabel(\"Объем сетки\")\n",
    "plt.ylabel(\"time(ms)\")\n",
    "plt.grid(True)\n",
    "plt.legend(['Python', 'NumPy', 'CuPy'])\n",
    "plt.xticks(n)\n",
    "plt.yscale('log')"
   ]
  },
  {
   "cell_type": "markdown",
   "metadata": {},
   "source": [
    "## Вывод\n",
    "Реализация алгоритма на \"чистом\" Python является не оптимизированной и выполняется за длительное время.\n",
    "\n",
    "Реализация алгоритма с использованием NumPy показывает хорошие результаты при низкой размерности сетки.\n",
    "\n",
    "При увеличении размерности сетки, реализация алгоритма с использованием CuPy позволяет значительно сократить время выполнения за счет использования GPU."
   ]
  }
 ],
 "metadata": {
  "accelerator": "GPU",
  "colab": {
   "gpuType": "T4",
   "provenance": []
  },
  "kernelspec": {
   "display_name": "Python 3 (ipykernel)",
   "language": "python",
   "name": "python3"
  },
  "language_info": {
   "codemirror_mode": {
    "name": "ipython",
    "version": 3
   },
   "file_extension": ".py",
   "mimetype": "text/x-python",
   "name": "python",
   "nbconvert_exporter": "python",
   "pygments_lexer": "ipython3",
   "version": "3.9.20"
  }
 },
 "nbformat": 4,
 "nbformat_minor": 4
}
