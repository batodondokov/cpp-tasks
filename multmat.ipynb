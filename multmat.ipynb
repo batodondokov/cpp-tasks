{
 "cells": [
  {
   "cell_type": "markdown",
   "metadata": {
    "id": "oawXSKXIzJJe"
   },
   "source": [
    "## Семестр 2. Задание 5. Параллельное умножение матриц"
   ]
  },
  {
   "cell_type": "code",
   "execution_count": 1,
   "metadata": {
    "id": "6EpCE_oGzGyW"
   },
   "outputs": [],
   "source": [
    "import numpy as np\n",
    "import numba\n",
    "from numba import cuda, types\n",
    "np.random.seed(123)"
   ]
  },
  {
   "cell_type": "markdown",
   "metadata": {},
   "source": [
    "### Последовательный N = 1000"
   ]
  },
  {
   "cell_type": "markdown",
   "metadata": {},
   "source": [
    "## Проверка умножения матриц"
   ]
  },
  {
   "cell_type": "code",
   "execution_count": 158,
   "metadata": {},
   "outputs": [],
   "source": [
    "N = 5\n",
    "A = np.random.random((N, N))\n",
    "B = np.random.random((N, N))\n",
    "C = np.zeros((N,N))"
   ]
  },
  {
   "cell_type": "markdown",
   "metadata": {},
   "source": [
    "### Будем считать Numpy умножение матриц за истину "
   ]
  },
  {
   "cell_type": "code",
   "execution_count": 159,
   "metadata": {},
   "outputs": [
    {
     "name": "stdout",
     "output_type": "stream",
     "text": [
      "[[1.24633576 1.28683415 1.64083231 1.13957765 1.23888875]\n",
      " [1.09272953 1.2547706  1.97145492 1.74511452 1.36381602]\n",
      " [0.55267315 0.67800898 0.97631018 0.89538629 0.8422766 ]\n",
      " [0.78151756 0.95564806 1.11213785 1.06386442 1.42065134]\n",
      " [0.7012217  0.98997644 1.37705702 0.91002336 0.91051555]]\n"
     ]
    }
   ],
   "source": [
    "C = A @ B\n",
    "print(C)"
   ]
  },
  {
   "cell_type": "markdown",
   "metadata": {},
   "source": [
    "### Последоватльный вариант блочным разделением"
   ]
  },
  {
   "cell_type": "code",
   "execution_count": null,
   "metadata": {},
   "outputs": [
    {
     "name": "stdout",
     "output_type": "stream",
     "text": [
      "[[1.24633576 1.28683415 1.64083231 1.13957765 1.23888875]\n",
      " [1.09272953 1.2547706  1.97145492 1.74511452 1.36381602]\n",
      " [0.55267315 0.67800898 0.97631018 0.89538629 0.8422766 ]\n",
      " [0.78151756 0.95564806 1.11213785 1.06386442 1.42065134]\n",
      " [0.7012217  0.98997644 1.37705702 0.91002336 0.91051555]]\n"
     ]
    }
   ],
   "source": [
    "C = np.zeros((N,N))\n",
    "for k in range(N):\n",
    "  for j in range(N):\n",
    "      for i in range(N):\n",
    "        C[i][j] = C[i][j] + A[i][k] * B[k][j]\n",
    "print(C)"
   ]
  },
  {
   "cell_type": "markdown",
   "metadata": {},
   "source": [
    "### Параллельный варинат с использованием shared-памяти"
   ]
  },
  {
   "cell_type": "code",
   "execution_count": 2,
   "metadata": {
    "id": "oEPTCOp27DoN"
   },
   "outputs": [],
   "source": [
    "@cuda.jit\n",
    "def matMult(a, b, n, c, BLOCK_SIZE):\n",
    "  bx = cuda.blockIdx.x\n",
    "  by = cuda.blockIdx.y\n",
    "  tx = cuda.threadIdx.x\n",
    "  ty = cuda.threadIdx.y\n",
    "\n",
    "  a_begin = n * BLOCK_SIZE * by\n",
    "  a_end = a_begin + n - 1\n",
    "  b_begin = BLOCK_SIZE * bx\n",
    "\n",
    "  a_step = BLOCK_SIZE\n",
    "  b_step = BLOCK_SIZE * n\n",
    "\n",
    "  sum = 0.0\n",
    "  \n",
    "  ib = b_begin\n",
    "  ia = a_begin\n",
    "  while ia <= a_end:\n",
    "    a_s = cuda.shared.array((16, 16), types.float32)\n",
    "    b_s = cuda.shared.array((16, 16), types.float32)\n",
    "    a_s[ty][tx] = a[ia + n * ty + tx]\n",
    "    b_s[ty][tx] = b[ib + n * ty + tx]\n",
    "    cuda.syncthreads()\n",
    "    for k in range(BLOCK_SIZE):\n",
    "      sum += a_s[ty][k] * b_s[k][tx]\n",
    "    cuda.syncthreads()\n",
    "    ia += a_step\n",
    "    ib += b_step\n",
    "  c[n * BLOCK_SIZE * by + BLOCK_SIZE * bx + n * ty + tx] = sum"
   ]
  },
  {
   "cell_type": "code",
   "execution_count": 162,
   "metadata": {
    "id": "mw_-BbXw6wdZ"
   },
   "outputs": [
    {
     "name": "stdout",
     "output_type": "stream",
     "text": [
      "(16, 16) (1, 1)\n"
     ]
    }
   ],
   "source": [
    "BLOCK_SIZE = 16\n",
    "TBP = (BLOCK_SIZE, BLOCK_SIZE)\n",
    "BPG = (N // BLOCK_SIZE + 1, N // BLOCK_SIZE + 1)\n",
    "print(TBP, BPG)"
   ]
  },
  {
   "cell_type": "code",
   "execution_count": 164,
   "metadata": {
    "colab": {
     "base_uri": "https://localhost:8080/",
     "height": 738
    },
    "id": "sxjIZ5hO-19e",
    "outputId": "3d53f365-625f-45d2-8247-add66da6b786"
   },
   "outputs": [
    {
     "name": "stdout",
     "output_type": "stream",
     "text": [
      "[[1.24633574 1.28683414 1.64083234 1.13957765 1.23888873]\n",
      " [1.09272949 1.25477056 1.97145489 1.74511446 1.36381599]\n",
      " [1.47411641 1.67141527 1.83209994 1.5199552  1.57032068]\n",
      " [1.11763349 1.44766977 1.45079969 1.29790789 1.78663206]\n",
      " [0.70122171 0.98997647 1.37705704 0.91002337 0.91051554]]\n"
     ]
    }
   ],
   "source": [
    "A_device = cuda.to_device(A.flatten())\n",
    "B_device = cuda.to_device(B.flatten())\n",
    "C = np.zeros((N,N))\n",
    "C_device = cuda.to_device(C.flatten())\n",
    "\n",
    "matMult[BPG, TBP](A_device, B_device, N, C_device, BLOCK_SIZE)\n",
    "res = C_device.copy_to_host()\n",
    "print(res.reshape(N,N))"
   ]
  },
  {
   "cell_type": "markdown",
   "metadata": {},
   "source": [
    "## Сравнение скорости последовательного и параллельного алгоритма"
   ]
  },
  {
   "cell_type": "markdown",
   "metadata": {},
   "source": [
    "### Последовательный N = 100"
   ]
  },
  {
   "cell_type": "code",
   "execution_count": 20,
   "metadata": {},
   "outputs": [],
   "source": [
    "N = 100\n",
    "A = np.random.random((N, N))\n",
    "B = np.random.random((N, N))\n",
    "C = np.zeros((N,N))"
   ]
  },
  {
   "cell_type": "code",
   "execution_count": 21,
   "metadata": {},
   "outputs": [
    {
     "name": "stdout",
     "output_type": "stream",
     "text": [
      "CPU times: user 1.28 s, sys: 10 μs, total: 1.28 s\n",
      "Wall time: 1.28 s\n"
     ]
    }
   ],
   "source": [
    "%%time\n",
    "for k in range(N):\n",
    "  for j in range(N):\n",
    "      for i in range(N):\n",
    "        C[i][j] = C[i][j] + A[i][k] * B[k][j]"
   ]
  },
  {
   "cell_type": "markdown",
   "metadata": {},
   "source": [
    "### Параллельный N = 100"
   ]
  },
  {
   "cell_type": "code",
   "execution_count": 22,
   "metadata": {},
   "outputs": [
    {
     "name": "stdout",
     "output_type": "stream",
     "text": [
      "(16, 16) (7, 7)\n"
     ]
    }
   ],
   "source": [
    "C = np.zeros((N,N))\n",
    "BLOCK_SIZE = 16\n",
    "TBP = (BLOCK_SIZE, BLOCK_SIZE)\n",
    "BPG = (N // BLOCK_SIZE + 1, N // BLOCK_SIZE + 1)\n",
    "print(TBP, BPG)"
   ]
  },
  {
   "cell_type": "code",
   "execution_count": 23,
   "metadata": {},
   "outputs": [
    {
     "name": "stdout",
     "output_type": "stream",
     "text": [
      "CPU times: user 5.13 ms, sys: 0 ns, total: 5.13 ms\n",
      "Wall time: 4.18 ms\n"
     ]
    }
   ],
   "source": [
    "%%time\n",
    "A_device = cuda.to_device(A.flatten())\n",
    "B_device = cuda.to_device(B.flatten())\n",
    "C_device = cuda.to_device(C.flatten())\n",
    "\n",
    "matMult[BPG, TBP](A_device, B_device, N, C_device, BLOCK_SIZE)"
   ]
  },
  {
   "cell_type": "markdown",
   "metadata": {},
   "source": [
    "### Последовательный N = 500"
   ]
  },
  {
   "cell_type": "code",
   "execution_count": 27,
   "metadata": {},
   "outputs": [],
   "source": [
    "N = 500\n",
    "A = np.random.random((N, N))\n",
    "B = np.random.random((N, N))\n",
    "C = np.zeros((N,N))"
   ]
  },
  {
   "cell_type": "code",
   "execution_count": 28,
   "metadata": {},
   "outputs": [
    {
     "name": "stdout",
     "output_type": "stream",
     "text": [
      "CPU times: user 2min 34s, sys: 33.2 ms, total: 2min 34s\n",
      "Wall time: 2min 34s\n"
     ]
    }
   ],
   "source": [
    "%%time\n",
    "for k in range(N):\n",
    "  for j in range(N):\n",
    "      for i in range(N):\n",
    "        C[i][j] = C[i][j] + A[i][k] * B[k][j]"
   ]
  },
  {
   "cell_type": "markdown",
   "metadata": {},
   "source": [
    "### Параллельный N = 500"
   ]
  },
  {
   "cell_type": "code",
   "execution_count": 29,
   "metadata": {},
   "outputs": [
    {
     "name": "stdout",
     "output_type": "stream",
     "text": [
      "(16, 16) (32, 32)\n"
     ]
    }
   ],
   "source": [
    "C = np.zeros((N,N))\n",
    "BLOCK_SIZE = 16\n",
    "TBP = (BLOCK_SIZE, BLOCK_SIZE)\n",
    "BPG = (N // BLOCK_SIZE + 1, N // BLOCK_SIZE + 1)\n",
    "print(TBP, BPG)"
   ]
  },
  {
   "cell_type": "code",
   "execution_count": 30,
   "metadata": {},
   "outputs": [
    {
     "name": "stdout",
     "output_type": "stream",
     "text": [
      "CPU times: user 14.4 ms, sys: 0 ns, total: 14.4 ms\n",
      "Wall time: 15.4 ms\n"
     ]
    }
   ],
   "source": [
    "%%time\n",
    "A_device = cuda.to_device(A.flatten())\n",
    "B_device = cuda.to_device(B.flatten())\n",
    "C_device = cuda.to_device(C.flatten())\n",
    "\n",
    "matMult[BPG, TBP](A_device, B_device, N, C_device, BLOCK_SIZE)"
   ]
  },
  {
   "cell_type": "markdown",
   "metadata": {},
   "source": [
    "### Последовательный N = 1000"
   ]
  },
  {
   "cell_type": "code",
   "execution_count": 33,
   "metadata": {},
   "outputs": [],
   "source": [
    "N = 1000\n",
    "A = np.random.random((N, N))\n",
    "B = np.random.random((N, N))\n",
    "C = np.zeros((N,N))"
   ]
  },
  {
   "cell_type": "code",
   "execution_count": 34,
   "metadata": {},
   "outputs": [
    {
     "name": "stdout",
     "output_type": "stream",
     "text": [
      "CPU times: user 20min 50s, sys: 228 ms, total: 20min 50s\n",
      "Wall time: 20min 50s\n"
     ]
    }
   ],
   "source": [
    "%%time\n",
    "for k in range(N):\n",
    "  for j in range(N):\n",
    "      for i in range(N):\n",
    "        C[i][j] = C[i][j] + A[i][k] * B[k][j]"
   ]
  },
  {
   "cell_type": "markdown",
   "metadata": {},
   "source": [
    "### Параллельный N = 1000"
   ]
  },
  {
   "cell_type": "code",
   "execution_count": 39,
   "metadata": {},
   "outputs": [
    {
     "name": "stdout",
     "output_type": "stream",
     "text": [
      "(16, 16) (63, 63)\n"
     ]
    }
   ],
   "source": [
    "C = np.zeros((N,N))\n",
    "BLOCK_SIZE = 16\n",
    "TBP = (BLOCK_SIZE, BLOCK_SIZE)\n",
    "BPG = (N // BLOCK_SIZE + 1, N // BLOCK_SIZE + 1)\n",
    "print(TBP, BPG)"
   ]
  },
  {
   "cell_type": "code",
   "execution_count": 41,
   "metadata": {},
   "outputs": [
    {
     "name": "stdout",
     "output_type": "stream",
     "text": [
      "CPU times: user 200 ms, sys: 22.3 ms, total: 222 ms\n",
      "Wall time: 222 ms\n"
     ]
    }
   ],
   "source": [
    "%%time\n",
    "A_device = cuda.to_device(A.flatten())\n",
    "B_device = cuda.to_device(B.flatten())\n",
    "C_device = cuda.to_device(C.flatten())\n",
    "\n",
    "matMult[BPG, TBP](A_device, B_device, N, C_device, BLOCK_SIZE)"
   ]
  },
  {
   "cell_type": "markdown",
   "metadata": {},
   "source": [
    "## Сравнение результатов по времени"
   ]
  },
  {
   "cell_type": "code",
   "execution_count": 1,
   "metadata": {},
   "outputs": [
    {
     "data": {
      "image/png": "[encoded data removed]",
      "text/plain": [
       "<Figure size 640x480 with 1 Axes>"
      ]
     },
     "metadata": {},
     "output_type": "display_data"
    }
   ],
   "source": [
    "import matplotlib.pyplot as plt\n",
    "\n",
    "ns = [100, 500, 1000]\n",
    "s_times = [128., 2340., 20500.]\n",
    "p_times = [5.13, 14.4, 200.]\n",
    "\n",
    "plt.plot(ns, s_times)\n",
    "plt.plot(ns, p_times)\n",
    "for x, y in zip(ns, s_times):\n",
    "    plt.text(x, y, f'{y:.1f}', ha='right', va='bottom')\n",
    "\n",
    "for x, y in zip(ns, p_times):\n",
    "    plt.text(x, y-1000, f'{y:.1f}', ha='right', va='bottom')\n",
    "plt.title(\"Сравнение времени работы\")\n",
    "plt.xlabel(\" Размерность матрицы\")\n",
    "plt.ylabel(\"Время (ms)\")\n",
    "plt.grid(True)\n",
    "plt.legend(['Последовательно', 'Параллельно'])\n",
    "plt.xticks(ns)\n",
    "plt.show()"
   ]
  }
 ],
 "metadata": {
  "accelerator": "GPU",
  "colab": {
   "gpuType": "T4",
   "provenance": []
  },
  "kernelspec": {
   "display_name": "Python 3 (ipykernel)",
   "language": "python",
   "name": "python3"
  },
  "language_info": {
   "codemirror_mode": {
    "name": "ipython",
    "version": 3
   },
   "file_extension": ".py",
   "mimetype": "text/x-python",
   "name": "python",
   "nbconvert_exporter": "python",
   "pygments_lexer": "ipython3",
   "version": "3.12.9"
  }
 },
 "nbformat": 4,
 "nbformat_minor": 4
}
