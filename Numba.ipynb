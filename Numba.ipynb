{
 "cells": [
  {
   "cell_type": "markdown",
   "id": "80f967f9-7886-4796-a6f0-f0966c0df687",
   "metadata": {},
   "source": [
    "# Реализовать задачу расчета площади методом Монте-Карло с использованием Numba"
   ]
  },
  {
   "cell_type": "markdown",
   "id": "2e470b56-1d1a-47cc-9313-9031b571a8ff",
   "metadata": {},
   "source": [
    "## а) с использованием только CPU"
   ]
  },
  {
   "cell_type": "code",
   "execution_count": 3,
   "id": "81a6d679-481c-4dba-8916-76419c119398",
   "metadata": {},
   "outputs": [],
   "source": [
    "import numpy as np\n",
    "import numba\n",
    "from numba import njit\n",
    "from numba import float32, int32\n",
    "\n",
    "a = 1.0\n",
    "b = 2.0\n",
    "n = [100, 1000, 10000, 100000, 1000000]"
   ]
  },
  {
   "cell_type": "code",
   "execution_count": 2,
   "id": "3cc30593-0d70-40f4-af8c-84b4e3577da0",
   "metadata": {},
   "outputs": [],
   "source": [
    "@njit(float32(int32, float32, float32))\n",
    "def monte_carlo(n, a, b):\n",
    "\n",
    "  X_sequence = np.linspace(a, b, 1001)\n",
    "  Y_sequence = np.array([x * x / (x + 1) + 1 / x for x in X_sequence])\n",
    "  max_fx_value = Y_sequence.max()\n",
    "\n",
    "  rect_area = max_fx_value * (b - a)\n",
    "\n",
    "  X = np.random.uniform(a, b, n)\n",
    "  Y = np.random.uniform(0, max_fx_value, n)\n",
    "\n",
    "  fx_values = np.array([x * x / (x + 1) + 1 / x for x in X])\n",
    "  under_curve = Y[Y<=fx_values].shape[0]\n",
    "\n",
    "  S = rect_area * (under_curve / n)\n",
    "  return S;"
   ]
  },
  {
   "cell_type": "code",
   "execution_count": 3,
   "id": "bdbe5a01-cf41-44cf-8442-bfcb44864cd2",
   "metadata": {},
   "outputs": [
    {
     "name": "stdout",
     "output_type": "stream",
     "text": [
      "432 μs ± 17 μs per loop (mean ± std. dev. of 7 runs, 1,000 loops each)\n"
     ]
    }
   ],
   "source": [
    "%timeit monte_carlo.py_func(n[0], a, b)"
   ]
  },
  {
   "cell_type": "code",
   "execution_count": 4,
   "id": "99527b5b-64ba-4fa8-906d-5fc9d2e812d7",
   "metadata": {},
   "outputs": [
    {
     "name": "stdout",
     "output_type": "stream",
     "text": [
      "6.9 μs ± 137 ns per loop (mean ± std. dev. of 7 runs, 100,000 loops each)\n"
     ]
    }
   ],
   "source": [
    "%timeit monte_carlo(n[0], a, b)"
   ]
  },
  {
   "cell_type": "code",
   "execution_count": 5,
   "id": "8eb5411a-19c9-4a4f-af74-f8c7c594b444",
   "metadata": {},
   "outputs": [
    {
     "name": "stdout",
     "output_type": "stream",
     "text": [
      "21.1 μs ± 442 ns per loop (mean ± std. dev. of 7 runs, 10,000 loops each)\n"
     ]
    }
   ],
   "source": [
    "%timeit monte_carlo(n[1], a, b)"
   ]
  },
  {
   "cell_type": "code",
   "execution_count": 6,
   "id": "550b301b-0c7e-4eab-af42-55d306f79f06",
   "metadata": {},
   "outputs": [
    {
     "name": "stdout",
     "output_type": "stream",
     "text": [
      "163 μs ± 2.88 μs per loop (mean ± std. dev. of 7 runs, 10,000 loops each)\n"
     ]
    }
   ],
   "source": [
    "%timeit monte_carlo(n[2], a, b)"
   ]
  },
  {
   "cell_type": "code",
   "execution_count": 7,
   "id": "7f0b075f-1742-45e4-ac24-a5c9a0b02ee7",
   "metadata": {},
   "outputs": [
    {
     "name": "stdout",
     "output_type": "stream",
     "text": [
      "2.87 ms ± 184 μs per loop (mean ± std. dev. of 7 runs, 100 loops each)\n"
     ]
    }
   ],
   "source": [
    "%timeit monte_carlo(n[3], a, b)"
   ]
  },
  {
   "cell_type": "code",
   "execution_count": 8,
   "id": "0c82c577-baf6-4dbf-aaaf-155c4253ca4a",
   "metadata": {},
   "outputs": [
    {
     "name": "stdout",
     "output_type": "stream",
     "text": [
      "20.5 ms ± 1.08 ms per loop (mean ± std. dev. of 7 runs, 10 loops each)\n"
     ]
    }
   ],
   "source": [
    "%timeit monte_carlo(n[4], a, b)"
   ]
  },
  {
   "cell_type": "markdown",
   "id": "d10b8f30-2564-45cd-b4ec-e82b822879b3",
   "metadata": {},
   "source": [
    "## б) с использованием CUDA"
   ]
  },
  {
   "cell_type": "code",
   "execution_count": 9,
   "id": "ff440e45-bac2-462b-8343-cc92ce33919f",
   "metadata": {},
   "outputs": [],
   "source": [
    "from numba import cuda\n",
    "from numba import vectorize\n",
    "\n",
    "@cuda.jit\n",
    "def fx_kernel(x, y):\n",
    "    # уникальный идентификатор нити внутри 1D блока\n",
    "    tx = cuda.threadIdx.x \n",
    "    # уникальный идентификатор блолка внутри 1D сетки\n",
    "    ty = cuda.blockIdx.x  \n",
    "    # число нитей в блоке\n",
    "    block_size = cuda.blockDim.x  \n",
    "    # число блоков в сетке\n",
    "    grid_size = cuda.gridDim.x    \n",
    "    \n",
    "    start = tx + ty * block_size\n",
    "    stride = block_size * grid_size\n",
    "\n",
    "    for i in range(start, x.shape[0], stride):\n",
    "        y[i] = x[i] * x[i] / (x[i] + 1) + 1 / x[i]\n",
    "\n",
    "@cuda.jit\n",
    "def count_under_curve_kernel(x, y, under_curve):\n",
    "    # уникальный идентификатор нити внутри 1D блока\n",
    "    tx = cuda.threadIdx.x \n",
    "    # уникальный идентификатор блолка внутри 1D сетки\n",
    "    ty = cuda.blockIdx.x  \n",
    "    # число нитей в блоке\n",
    "    block_size = cuda.blockDim.x  \n",
    "    # число блоков в сетке\n",
    "    grid_size = cuda.gridDim.x    \n",
    "    \n",
    "    start = tx + ty * block_size\n",
    "    stride = block_size * grid_size\n",
    "\n",
    "    for i in range(start, x.shape[0], stride):\n",
    "        fx = x[i] * x[i] / (x[i] + 1) + 1 / x[i]\n",
    "        if y[i] <= fx:\n",
    "            under_curve[i] = True"
   ]
  },
  {
   "cell_type": "code",
   "execution_count": 10,
   "id": "3748f757-d7bb-4fac-b131-20992021d6a4",
   "metadata": {},
   "outputs": [],
   "source": [
    "def monte_carlo_cuda(n, a, b):\n",
    "    threads_per_block = 128\n",
    "    blocks_per_grid = 30\n",
    "    \n",
    "    X_sequence = np.linspace(a, b, n+1)\n",
    "    X_seq_dev = cuda.to_device(X_sequence)\n",
    "    \n",
    "    Y_seq_dev = cuda.device_array_like(X_sequence)\n",
    "    fx_kernel[blocks_per_grid, threads_per_block](X_seq_dev, Y_seq_dev)\n",
    "    Y_seq_host = Y_seq_dev.copy_to_host()\n",
    "    max_fx_value = np.max(Y_seq_host)\n",
    "    \n",
    "    rect_area = max_fx_value * (b - a)\n",
    "    \n",
    "    X = np.random.uniform(a, b, n)\n",
    "    X_dev = cuda.to_device(X)\n",
    "    Y = np.random.uniform(0, max_fx_value, n)\n",
    "    Y_dev = cuda.to_device(Y)\n",
    "    \n",
    "    under_curve_dev = cuda.device_array_like(Y)\n",
    "    count_under_curve_kernel[blocks_per_grid, threads_per_block](X_dev, Y_dev, under_curve_dev)\n",
    "    under_curve_host = under_curve_dev.copy_to_host()\n",
    "\n",
    "    S = rect_area * (under_curve_host[under_curve_host==True].shape[0] / n)\n",
    "    return S;"
   ]
  },
  {
   "cell_type": "code",
   "execution_count": 12,
   "id": "591fcd3d-a4e1-4e0d-a47a-83dd093e2076",
   "metadata": {},
   "outputs": [
    {
     "name": "stdout",
     "output_type": "stream",
     "text": [
      "1.1 ms ± 33 μs per loop (mean ± std. dev. of 7 runs, 1,000 loops each)\n"
     ]
    }
   ],
   "source": [
    "%timeit monte_carlo_cuda(n[0], a, b)"
   ]
  },
  {
   "cell_type": "code",
   "execution_count": 13,
   "id": "8ed42b9f-0feb-4b86-9699-056b9585fc01",
   "metadata": {},
   "outputs": [
    {
     "name": "stdout",
     "output_type": "stream",
     "text": [
      "1.15 ms ± 85.1 μs per loop (mean ± std. dev. of 7 runs, 1,000 loops each)\n"
     ]
    }
   ],
   "source": [
    "%timeit monte_carlo_cuda(n[1], a, b)"
   ]
  },
  {
   "cell_type": "code",
   "execution_count": 14,
   "id": "ec52dcbe-ed68-4caf-8720-2038f7cabf2f",
   "metadata": {},
   "outputs": [
    {
     "name": "stdout",
     "output_type": "stream",
     "text": [
      "1.41 ms ± 78.6 μs per loop (mean ± std. dev. of 7 runs, 1,000 loops each)\n"
     ]
    }
   ],
   "source": [
    "%timeit monte_carlo_cuda(n[2], a, b)"
   ]
  },
  {
   "cell_type": "code",
   "execution_count": 15,
   "id": "be7fe329-3630-478f-8ea7-2b59d19162bb",
   "metadata": {},
   "outputs": [
    {
     "name": "stdout",
     "output_type": "stream",
     "text": [
      "5.34 ms ± 84 μs per loop (mean ± std. dev. of 7 runs, 100 loops each)\n"
     ]
    }
   ],
   "source": [
    "%timeit monte_carlo_cuda(n[3], a, b)"
   ]
  },
  {
   "cell_type": "code",
   "execution_count": 16,
   "id": "c9cc4781-e142-446f-9f08-ac6b0f4d89c7",
   "metadata": {},
   "outputs": [
    {
     "name": "stdout",
     "output_type": "stream",
     "text": [
      "53.3 ms ± 1.5 ms per loop (mean ± std. dev. of 7 runs, 10 loops each)\n"
     ]
    }
   ],
   "source": [
    "%timeit monte_carlo_cuda(n[4], a, b)"
   ]
  },
  {
   "cell_type": "code",
   "execution_count": 9,
   "id": "f0af58c6-72fb-43a5-bb05-a6992413fb98",
   "metadata": {},
   "outputs": [
    {
     "data": {
      "image/png": "[encoded data removed]",
      "text/plain": [
       "<Figure size 640x480 with 1 Axes>"
      ]
     },
     "metadata": {},
     "output_type": "display_data"
    }
   ],
   "source": [
    "import matplotlib.pyplot as plt\n",
    "\n",
    "python_times = [0.725, 1.27, 6.49, 77.0, 799.0]\n",
    "cuda_times = [np.mean([80.853087, 66.343338, 83.481037, 65.937341, 65.842852]),\n",
    "              np.mean([77.843041, 66.396017, 65.617729, 65.963939, 65.169027]),\n",
    "              np.mean([66.523134, 73.504958, 65.686925, 68.464222, 71.369092]),\n",
    "              np.mean([67.430058, 69.073217, 65.934651, 69.389626, 71.514924]),\n",
    "              np.mean([67.917306, 84.503242, 68.994116, 72.131241, 65.425058])]\n",
    "numba_times = [0.0069, 0.0211, 0.163, 2.87, 20.5]\n",
    "numba_cuda_times = [1.1, 1.15, 1.41, 5.34, 53.3]\n",
    "\n",
    "plt.plot(n, python_times)\n",
    "plt.plot(n, cuda_times)\n",
    "plt.plot(n, numba_times)\n",
    "plt.plot(n, numba_cuda_times)\n",
    "plt.title(\"Сравнение времени работы при\")\n",
    "plt.xlabel(\"n\")\n",
    "plt.ylabel(\"time(ms)\")\n",
    "plt.grid(True)\n",
    "plt.legend(['Python', 'Cuda', 'Numba-njit', 'Numba-cuda'])\n",
    "plt.xticks(n)\n",
    "plt.xscale('log')\n",
    "plt.yscale('log')"
   ]
  },
  {
   "cell_type": "markdown",
   "id": "8e25be52-de6d-4849-a342-4f9d21da86a2",
   "metadata": {},
   "source": [
    "## Вывод\n",
    "Используя библиотеку Numba, можно значительно ускорить вычисления за счет njit компиляции, даже не задействуя GPU.\n",
    "Также для ускорения вычислений можно использовать декоратор cuda.jit, который компилирует код в машинный, для выполнения на GPU и позволяет управлять потоками, блоками и сетками для параллельного выполнения задач."
   ]
  }
 ],
 "metadata": {
  "kernelspec": {
   "display_name": "Python 3 (ipykernel)",
   "language": "python",
   "name": "python3"
  },
  "language_info": {
   "codemirror_mode": {
    "name": "ipython",
    "version": 3
   },
   "file_extension": ".py",
   "mimetype": "text/x-python",
   "name": "python",
   "nbconvert_exporter": "python",
   "pygments_lexer": "ipython3",
   "version": "3.12.7"
  }
 },
 "nbformat": 4,
 "nbformat_minor": 5
}
