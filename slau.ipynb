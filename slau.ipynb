{
 "cells": [
  {
   "cell_type": "markdown",
   "metadata": {},
   "source": [
    "# Семестр 2. Задание 6. Метод простых итераций решения СЛАУ "
   ]
  },
  {
   "cell_type": "code",
   "execution_count": 1,
   "metadata": {},
   "outputs": [],
   "source": [
    "import numpy as np\n",
    "from numba import cuda, types"
   ]
  },
  {
   "cell_type": "markdown",
   "metadata": {},
   "source": [
    "## Генерация матрицы коэффициентов СЛАУ, имеющей единственное решение"
   ]
  },
  {
   "cell_type": "code",
   "execution_count": 2,
   "metadata": {},
   "outputs": [
    {
     "data": {
      "text/plain": [
       "0.22870164247175395"
      ]
     },
     "execution_count": 2,
     "metadata": {},
     "output_type": "execute_result"
    }
   ],
   "source": [
    "4.28416074 / 18.73253158"
   ]
  },
  {
   "cell_type": "code",
   "execution_count": 3,
   "metadata": {},
   "outputs": [
    {
     "name": "stdout",
     "output_type": "stream",
     "text": [
      "[14.74088425 -6.69924012  3.04164413]\n",
      "[-6.69924012  3.04164413]\n",
      "0.660807322417771\n"
     ]
    }
   ],
   "source": [
    "row = np.random.uniform(-10, 10, 3)            \n",
    "abs_sum = np.sum(np.abs(row)) - np.abs(row[0])\n",
    "row[0] = (abs_sum + 5.0) * np.random.choice([-1, 1])\n",
    "a = np.delete(row, 0)\n",
    "temp = np.sum(np.abs(a / row[0]))\n",
    "print(row)\n",
    "print(a)\n",
    "print(temp)"
   ]
  },
  {
   "cell_type": "code",
   "execution_count": 4,
   "metadata": {},
   "outputs": [],
   "source": [
    "def matrix_gen(n):\n",
    "    arr = []\n",
    "    for i in range(n):\n",
    "        condition = 1\n",
    "        while condition >= 1:\n",
    "            row = np.random.uniform(-10, 10, n)            \n",
    "            abs_sum = np.sum(np.abs(row)) - np.abs(row[i])\n",
    "            row[i] = (abs_sum + 5.0) * np.random.choice([-1, 1])\n",
    "            a = np.delete(row, i)\n",
    "            condition = np.sum(np.abs(a / row[i]))\n",
    "        arr.append(row)\n",
    "    return np.array(arr, dtype=np.float32)"
   ]
  },
  {
   "cell_type": "code",
   "execution_count": 5,
   "metadata": {},
   "outputs": [
    {
     "data": {
      "text/plain": [
       "(array([[-18.654165 ,   9.014286 ,   4.6398787],\n",
       "        [  1.9370031, -14.937505 ,  -8.000502 ],\n",
       "        [  7.323523 ,   2.0223002,  14.345823 ]], dtype=float32),\n",
       " array([-8.871768 ,  4.4399753,  8.771054 ], dtype=float32))"
      ]
     },
     "execution_count": 5,
     "metadata": {},
     "output_type": "execute_result"
    }
   ],
   "source": [
    "np.random.seed(42)\n",
    "N = 3\n",
    "A = matrix_gen(N)\n",
    "B = np.random.uniform(-10, 10, N).astype(np.float32)\n",
    "A, B"
   ]
  },
  {
   "cell_type": "markdown",
   "metadata": {},
   "source": [
    "## Последовательное решение"
   ]
  },
  {
   "cell_type": "code",
   "execution_count": 6,
   "metadata": {},
   "outputs": [],
   "source": [
    "def simple_iterations(A, B, N):\n",
    "    xs = np.ones(N)\n",
    "    new_xs = np.zeros(N)\n",
    "    a = A.copy()\n",
    "    np.fill_diagonal(a, 0)\n",
    "    for i in range(100):\n",
    "        for k in range(N):\n",
    "            new_xs[k] = (B[k] - np.sum(a[k]*xs)) / A[k][k]\n",
    "        xs = new_xs\n",
    "    return xs"
   ]
  },
  {
   "cell_type": "code",
   "execution_count": 7,
   "metadata": {},
   "outputs": [
    {
     "data": {
      "text/plain": [
       "array([ 0.34869132, -0.5236855 ,  0.50721764])"
      ]
     },
     "execution_count": 7,
     "metadata": {},
     "output_type": "execute_result"
    }
   ],
   "source": [
    "simple_iterations(A, B, N)"
   ]
  },
  {
   "cell_type": "code",
   "execution_count": 8,
   "metadata": {},
   "outputs": [
    {
     "data": {
      "text/plain": [
       "array([ 0.3486913 , -0.5236855 ,  0.50721765], dtype=float32)"
      ]
     },
     "execution_count": 8,
     "metadata": {},
     "output_type": "execute_result"
    }
   ],
   "source": [
    "np.linalg.solve(A,B) # проверка решения"
   ]
  },
  {
   "cell_type": "markdown",
   "metadata": {},
   "source": [
    "## Параллельное решение"
   ]
  },
  {
   "cell_type": "code",
   "execution_count": 9,
   "metadata": {},
   "outputs": [],
   "source": [
    "@cuda.jit\n",
    "def yk(A, B, a, xs, new_xs, N):\n",
    "    idx = cuda.grid(1)\n",
    "    if idx < N:\n",
    "        summ = 0\n",
    "        for i in range(N):\n",
    "           summ += a[idx*N+i]*xs[i]\n",
    "        new_xs[idx] = (B[idx] - summ) / A[idx*N+idx]\n",
    "        cuda.syncthreads()    "
   ]
  },
  {
   "cell_type": "code",
   "execution_count": 10,
   "metadata": {},
   "outputs": [],
   "source": [
    "TBP = 1024\n",
    "BPG = N // TBP + 1\n",
    "\n",
    "def simple_iterations_gpu(A, B, N):\n",
    "    A_device = cuda.to_device(A.flatten())\n",
    "    B_device = cuda.to_device(B)\n",
    "    xs = np.ones(N, dtype=np.float32)\n",
    "    xs_device = cuda.to_device(xs)\n",
    "    new_xs = np.zeros(N, dtype=np.float32)\n",
    "    new_xs_device = cuda.to_device(new_xs)\n",
    "    a = A.copy()\n",
    "    np.fill_diagonal(a, 0)\n",
    "    a_device = cuda.to_device(a.flatten())\n",
    "    for i in range(100):\n",
    "        yk[BPG, TBP](A_device, B_device, a_device, xs_device, new_xs_device, N)\n",
    "        xs_device = new_xs_device\n",
    "    xs_device.copy_to_host(xs)\n",
    "    return xs"
   ]
  },
  {
   "cell_type": "code",
   "execution_count": 11,
   "metadata": {},
   "outputs": [
    {
     "name": "stderr",
     "output_type": "stream",
     "text": [
      "/home/bato/miniconda3/envs/p-numba/lib/python3.12/site-packages/numba/cuda/dispatcher.py:536: NumbaPerformanceWarning: Grid size 1 will likely result in GPU under-utilization due to low occupancy.\n",
      "  warn(NumbaPerformanceWarning(msg))\n"
     ]
    },
    {
     "data": {
      "text/plain": [
       "array([ 0.3486913 , -0.5236855 ,  0.50721765], dtype=float32)"
      ]
     },
     "execution_count": 11,
     "metadata": {},
     "output_type": "execute_result"
    }
   ],
   "source": [
    "simple_iterations_gpu(A, B, N)"
   ]
  },
  {
   "cell_type": "code",
   "execution_count": 12,
   "metadata": {},
   "outputs": [
    {
     "data": {
      "text/plain": [
       "array([ 0.3486913 , -0.5236855 ,  0.50721765], dtype=float32)"
      ]
     },
     "execution_count": 12,
     "metadata": {},
     "output_type": "execute_result"
    }
   ],
   "source": [
    "np.linalg.solve(A,B) # проверка решения"
   ]
  },
  {
   "cell_type": "markdown",
   "metadata": {},
   "source": [
    "## Сравнение скорости последовательного и параллельного алгоритма на матрицах коэффицентов разного размера и 100 итерациях"
   ]
  },
  {
   "cell_type": "markdown",
   "metadata": {},
   "source": [
    "### Последовательный N = 100"
   ]
  },
  {
   "cell_type": "code",
   "execution_count": 13,
   "metadata": {},
   "outputs": [],
   "source": [
    "np.random.seed(42)\n",
    "N = 100\n",
    "A = matrix_gen(N)\n",
    "B = np.random.uniform(-10, 10, N).astype(np.float32)"
   ]
  },
  {
   "cell_type": "code",
   "execution_count": 14,
   "metadata": {},
   "outputs": [
    {
     "name": "stdout",
     "output_type": "stream",
     "text": [
      "59 ms ± 469 μs per loop (mean ± std. dev. of 7 runs, 10 loops each)\n"
     ]
    }
   ],
   "source": [
    "%%timeit\n",
    "simple_iterations(A, B, N)"
   ]
  },
  {
   "cell_type": "markdown",
   "metadata": {},
   "source": [
    "### Параллельный N = 100"
   ]
  },
  {
   "cell_type": "code",
   "execution_count": 15,
   "metadata": {},
   "outputs": [
    {
     "name": "stdout",
     "output_type": "stream",
     "text": [
      "11.1 ms ± 270 μs per loop (mean ± std. dev. of 7 runs, 100 loops each)\n"
     ]
    }
   ],
   "source": [
    "%%timeit\n",
    "simple_iterations_gpu(A, B, N)"
   ]
  },
  {
   "cell_type": "markdown",
   "metadata": {},
   "source": [
    "### Последовательный N = 1000"
   ]
  },
  {
   "cell_type": "code",
   "execution_count": 16,
   "metadata": {},
   "outputs": [],
   "source": [
    "np.random.seed(42)\n",
    "N = 1000\n",
    "A = matrix_gen(N)\n",
    "B = np.random.uniform(-10, 10, N).astype(np.float32)"
   ]
  },
  {
   "cell_type": "code",
   "execution_count": 17,
   "metadata": {},
   "outputs": [
    {
     "name": "stdout",
     "output_type": "stream",
     "text": [
      "857 ms ± 23.6 ms per loop (mean ± std. dev. of 7 runs, 1 loop each)\n"
     ]
    }
   ],
   "source": [
    "%%timeit\n",
    "simple_iterations(A, B, N)"
   ]
  },
  {
   "cell_type": "markdown",
   "metadata": {},
   "source": [
    "### Параллельный N = 1000"
   ]
  },
  {
   "cell_type": "code",
   "execution_count": 18,
   "metadata": {},
   "outputs": [
    {
     "name": "stdout",
     "output_type": "stream",
     "text": [
      "181 ms ± 1.5 ms per loop (mean ± std. dev. of 7 runs, 1 loop each)\n"
     ]
    }
   ],
   "source": [
    "%%timeit\n",
    "simple_iterations_gpu(A, B, N)"
   ]
  },
  {
   "cell_type": "markdown",
   "metadata": {},
   "source": [
    "### Последовательный N = 10 000"
   ]
  },
  {
   "cell_type": "code",
   "execution_count": 19,
   "metadata": {},
   "outputs": [],
   "source": [
    "np.random.seed(42)\n",
    "N = 10000\n",
    "A = matrix_gen(N)\n",
    "B = np.random.uniform(-10, 10, N).astype(np.float32)"
   ]
  },
  {
   "cell_type": "code",
   "execution_count": 20,
   "metadata": {},
   "outputs": [
    {
     "name": "stdout",
     "output_type": "stream",
     "text": [
      "19.4 s ± 60.7 ms per loop (mean ± std. dev. of 7 runs, 1 loop each)\n"
     ]
    }
   ],
   "source": [
    "%%timeit\n",
    "simple_iterations(A, B, N)"
   ]
  },
  {
   "cell_type": "markdown",
   "metadata": {},
   "source": [
    "### Параллельный N = 10 000"
   ]
  },
  {
   "cell_type": "code",
   "execution_count": 21,
   "metadata": {},
   "outputs": [
    {
     "name": "stdout",
     "output_type": "stream",
     "text": [
      "2.86 s ± 61 ms per loop (mean ± std. dev. of 7 runs, 1 loop each)\n"
     ]
    }
   ],
   "source": [
    "%%timeit\n",
    "simple_iterations_gpu(A, B, N)"
   ]
  },
  {
   "cell_type": "markdown",
   "metadata": {},
   "source": [
    "## Сравнение результатов по времени"
   ]
  },
  {
   "cell_type": "code",
   "execution_count": 22,
   "metadata": {},
   "outputs": [
    {
     "data": {
      "image/png": "[encoded data removed]",
      "text/plain": [
       "<Figure size 640x480 with 1 Axes>"
      ]
     },
     "metadata": {},
     "output_type": "display_data"
    }
   ],
   "source": [
    "import matplotlib.pyplot as plt\n",
    "\n",
    "ns = [100, 1000, 10000]\n",
    "s_times = [59., 857., 19400.]\n",
    "p_times = [11.1, 181., 2860.]\n",
    "\n",
    "plt.plot(ns, s_times)\n",
    "plt.plot(ns, p_times)\n",
    "for x, y in zip(ns, s_times):\n",
    "    plt.text(x, y, f'{y:.1f}', ha='right', va='bottom')\n",
    "\n",
    "for x, y in zip(ns, p_times):\n",
    "    plt.text(x, y-1000, f'{y:.1f}', ha='right', va='bottom')\n",
    "plt.title(\"Сравнение времени работы\")\n",
    "plt.xlabel(\"Кол-во неизвестных\")\n",
    "plt.ylabel(\"Время (ms)\")\n",
    "plt.grid(True)\n",
    "plt.legend(['Последовательно', 'Параллельно'])\n",
    "plt.xticks(ns)\n",
    "plt.show()"
   ]
  }
 ],
 "metadata": {
  "kernelspec": {
   "display_name": "Python 3 (ipykernel)",
   "language": "python",
   "name": "python3"
  },
  "language_info": {
   "codemirror_mode": {
    "name": "ipython",
    "version": 3
   },
   "file_extension": ".py",
   "mimetype": "text/x-python",
   "name": "python",
   "nbconvert_exporter": "python",
   "pygments_lexer": "ipython3",
   "version": "3.12.9"
  }
 },
 "nbformat": 4,
 "nbformat_minor": 4
}
